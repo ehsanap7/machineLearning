{
 "cells": [
  {
   "cell_type": "code",
   "execution_count": 39,
   "metadata": {},
   "outputs": [],
   "source": [
    "import numpy as np\n",
    "import pandas as pd\n",
    "import seaborn as sns\n",
    "from sklearn.preprocessing import LabelEncoder\n",
    "from sklearn.preprocessing import MinMaxScaler\n",
    "from sklearn.feature_selection import chi2\n",
    "from sklearn.feature_selection import SelectKBest\n",
    "from sklearn.feature_selection import f_classif\n",
    "from sklearn.feature_selection import mutual_info_classif\n",
    "from sklearn.linear_model import Perceptron\n",
    "from sklearn.model_selection import cross_validate"
   ]
  },
  {
   "cell_type": "code",
   "execution_count": 112,
   "outputs": [],
   "source": [
    "import matplotlib.pyplot as plt\n",
    "import pandas as pd\n",
    "import numpy as np\n",
    "from sklearn.model_selection import cross_validate, train_test_split\n",
    "from sklearn.metrics import confusion_matrix\n",
    "from matplotlib.colors import ListedColormap\n",
    "import scipy.stats as st\n",
    "from sklearn import svm\n",
    "from sklearn.model_selection import GridSearchCV\n",
    "from sklearn.datasets import load_iris\n",
    "from sklearn import tree\n",
    "import graphviz\n",
    "from sklearn.ensemble import RandomForestClassifier\n",
    "from sklearn.linear_model import Perceptron\n",
    "from sklearn.neural_network import MLPClassifier"
   ],
   "metadata": {
    "collapsed": false
   }
  },
  {
   "cell_type": "code",
   "execution_count": 41,
   "metadata": {},
   "outputs": [
    {
     "data": {
      "text/plain": "   STK35  DPYSL4   GJC2  FMNL1   LIG3    CA6  BRPF1  BRMS1  CXCL13   SIAE  \\\n0  0.425  -0.316  0.465 -0.142 -0.033  0.357 -0.197 -0.280   3.164 -0.086   \n1  0.694  -0.497  0.200 -0.215  0.852  0.300 -0.864 -0.222   6.179 -0.649   \n2  0.304  -0.205  0.739  0.176  0.726  0.715  0.298  0.147   3.612 -0.230   \n3  0.309  -0.561  0.669 -0.514  0.805  0.409 -0.974  0.054   1.280 -0.150   \n4  0.732  -0.287  0.311 -0.326 -0.468  1.887 -0.347 -0.193   2.410  0.479   \n\n   ...  ADRB1   DRD4  GABRR1  KRT10    PIP  MS4A3  SECISBP2L   EMP3  HOXB1  \\\n0  ... -0.188 -0.015  -0.035  0.722  0.131 -0.545      0.323 -0.400  0.064   \n1  ...  0.200 -0.416   0.293 -0.795  1.785 -1.224      0.505 -0.275  0.300   \n2  ...  0.211  0.170   0.156 -0.733  2.414 -0.435      0.047 -0.980  0.233   \n3  ... -0.532  0.884   0.633 -0.586  0.163 -0.987      0.223 -1.090  0.603   \n4  ...  0.354  0.596   0.270 -0.282  0.601  0.164      0.040 -0.705  0.054   \n\n   Class  \n0  Basal  \n1  Basal  \n2  Basal  \n3  Basal  \n4  Basal  \n\n[5 rows x 13583 columns]",
      "text/html": "<div>\n<style scoped>\n    .dataframe tbody tr th:only-of-type {\n        vertical-align: middle;\n    }\n\n    .dataframe tbody tr th {\n        vertical-align: top;\n    }\n\n    .dataframe thead th {\n        text-align: right;\n    }\n</style>\n<table border=\"1\" class=\"dataframe\">\n  <thead>\n    <tr style=\"text-align: right;\">\n      <th></th>\n      <th>STK35</th>\n      <th>DPYSL4</th>\n      <th>GJC2</th>\n      <th>FMNL1</th>\n      <th>LIG3</th>\n      <th>CA6</th>\n      <th>BRPF1</th>\n      <th>BRMS1</th>\n      <th>CXCL13</th>\n      <th>SIAE</th>\n      <th>...</th>\n      <th>ADRB1</th>\n      <th>DRD4</th>\n      <th>GABRR1</th>\n      <th>KRT10</th>\n      <th>PIP</th>\n      <th>MS4A3</th>\n      <th>SECISBP2L</th>\n      <th>EMP3</th>\n      <th>HOXB1</th>\n      <th>Class</th>\n    </tr>\n  </thead>\n  <tbody>\n    <tr>\n      <th>0</th>\n      <td>0.425</td>\n      <td>-0.316</td>\n      <td>0.465</td>\n      <td>-0.142</td>\n      <td>-0.033</td>\n      <td>0.357</td>\n      <td>-0.197</td>\n      <td>-0.280</td>\n      <td>3.164</td>\n      <td>-0.086</td>\n      <td>...</td>\n      <td>-0.188</td>\n      <td>-0.015</td>\n      <td>-0.035</td>\n      <td>0.722</td>\n      <td>0.131</td>\n      <td>-0.545</td>\n      <td>0.323</td>\n      <td>-0.400</td>\n      <td>0.064</td>\n      <td>Basal</td>\n    </tr>\n    <tr>\n      <th>1</th>\n      <td>0.694</td>\n      <td>-0.497</td>\n      <td>0.200</td>\n      <td>-0.215</td>\n      <td>0.852</td>\n      <td>0.300</td>\n      <td>-0.864</td>\n      <td>-0.222</td>\n      <td>6.179</td>\n      <td>-0.649</td>\n      <td>...</td>\n      <td>0.200</td>\n      <td>-0.416</td>\n      <td>0.293</td>\n      <td>-0.795</td>\n      <td>1.785</td>\n      <td>-1.224</td>\n      <td>0.505</td>\n      <td>-0.275</td>\n      <td>0.300</td>\n      <td>Basal</td>\n    </tr>\n    <tr>\n      <th>2</th>\n      <td>0.304</td>\n      <td>-0.205</td>\n      <td>0.739</td>\n      <td>0.176</td>\n      <td>0.726</td>\n      <td>0.715</td>\n      <td>0.298</td>\n      <td>0.147</td>\n      <td>3.612</td>\n      <td>-0.230</td>\n      <td>...</td>\n      <td>0.211</td>\n      <td>0.170</td>\n      <td>0.156</td>\n      <td>-0.733</td>\n      <td>2.414</td>\n      <td>-0.435</td>\n      <td>0.047</td>\n      <td>-0.980</td>\n      <td>0.233</td>\n      <td>Basal</td>\n    </tr>\n    <tr>\n      <th>3</th>\n      <td>0.309</td>\n      <td>-0.561</td>\n      <td>0.669</td>\n      <td>-0.514</td>\n      <td>0.805</td>\n      <td>0.409</td>\n      <td>-0.974</td>\n      <td>0.054</td>\n      <td>1.280</td>\n      <td>-0.150</td>\n      <td>...</td>\n      <td>-0.532</td>\n      <td>0.884</td>\n      <td>0.633</td>\n      <td>-0.586</td>\n      <td>0.163</td>\n      <td>-0.987</td>\n      <td>0.223</td>\n      <td>-1.090</td>\n      <td>0.603</td>\n      <td>Basal</td>\n    </tr>\n    <tr>\n      <th>4</th>\n      <td>0.732</td>\n      <td>-0.287</td>\n      <td>0.311</td>\n      <td>-0.326</td>\n      <td>-0.468</td>\n      <td>1.887</td>\n      <td>-0.347</td>\n      <td>-0.193</td>\n      <td>2.410</td>\n      <td>0.479</td>\n      <td>...</td>\n      <td>0.354</td>\n      <td>0.596</td>\n      <td>0.270</td>\n      <td>-0.282</td>\n      <td>0.601</td>\n      <td>0.164</td>\n      <td>0.040</td>\n      <td>-0.705</td>\n      <td>0.054</td>\n      <td>Basal</td>\n    </tr>\n  </tbody>\n</table>\n<p>5 rows × 13583 columns</p>\n</div>"
     },
     "execution_count": 41,
     "metadata": {},
     "output_type": "execute_result"
    }
   ],
   "source": [
    "input_file = \"data/breastcancer.csv\"\n",
    "df = pd.read_csv(input_file, header=0)\n",
    "\n",
    "df.head()"
   ]
  },
  {
   "cell_type": "code",
   "execution_count": 42,
   "outputs": [
    {
     "data": {
      "text/plain": "STK35        float64\nDPYSL4       float64\nGJC2         float64\nFMNL1        float64\nLIG3         float64\n              ...   \nMS4A3        float64\nSECISBP2L    float64\nEMP3         float64\nHOXB1        float64\nClass         object\nLength: 13583, dtype: object"
     },
     "execution_count": 42,
     "metadata": {},
     "output_type": "execute_result"
    }
   ],
   "source": [
    "#label_encoder = LabelEncoder()\n",
    "df.dtypes\n",
    "\n"
   ],
   "metadata": {
    "collapsed": false
   }
  },
  {
   "cell_type": "code",
   "execution_count": 43,
   "outputs": [
    {
     "data": {
      "text/plain": "STK35        0\nDPYSL4       0\nGJC2         0\nFMNL1        0\nLIG3         0\n            ..\nMS4A3        0\nSECISBP2L    0\nEMP3         0\nHOXB1        0\nClass        0\nLength: 13583, dtype: int64"
     },
     "execution_count": 43,
     "metadata": {},
     "output_type": "execute_result"
    }
   ],
   "source": [
    "#Checking missing data\n",
    "df.isna().sum()"
   ],
   "metadata": {
    "collapsed": false
   }
  },
  {
   "cell_type": "code",
   "execution_count": 6,
   "outputs": [],
   "source": [
    "df.nunique()"
   ],
   "metadata": {
    "collapsed": false
   }
  },
  {
   "cell_type": "code",
   "execution_count": 29,
   "outputs": [],
   "source": [
    "from sklearn.preprocessing import OrdinalEncoder"
   ],
   "metadata": {
    "collapsed": false
   }
  },
  {
   "cell_type": "code",
   "execution_count": 44,
   "outputs": [],
   "source": [
    "enc = OrdinalEncoder()"
   ],
   "metadata": {
    "collapsed": false
   }
  },
  {
   "cell_type": "code",
   "execution_count": 31,
   "outputs": [],
   "source": [
    "df.columns"
   ],
   "metadata": {
    "collapsed": false
   }
  },
  {
   "cell_type": "code",
   "execution_count": 45,
   "outputs": [],
   "source": [
    "#enc.fit(df[['Class']])\n",
    "enc.fit(df[:])"
   ],
   "metadata": {
    "collapsed": false
   }
  },
  {
   "cell_type": "code",
   "execution_count": 33,
   "outputs": [],
   "source": [
    "#df[['Class']]= enc.transform(df[['Class']])\n",
    "df[:] = enc.transform(df[:])"
   ],
   "metadata": {
    "collapsed": false
   }
  },
  {
   "cell_type": "code",
   "execution_count": 34,
   "outputs": [],
   "source": [
    "df.head()"
   ],
   "metadata": {
    "collapsed": false
   }
  },
  {
   "cell_type": "code",
   "execution_count": 46,
   "metadata": {},
   "outputs": [],
   "source": [
    "X = df.iloc[:, 0:13582]\n",
    "y = df.iloc[:, -1]"
   ]
  },
  {
   "cell_type": "code",
   "execution_count": 47,
   "metadata": {},
   "outputs": [
    {
     "data": {
      "text/plain": "   STK35  DPYSL4   GJC2  FMNL1   LIG3    CA6  BRPF1  BRMS1  CXCL13   SIAE  \\\n0  128.0    46.0   73.0   81.0   32.0  120.0  107.0   33.0   103.0   54.0   \n1  134.0    20.0   27.0   63.0  135.0  109.0    8.0   42.0   156.0    6.0   \n2  113.0    70.0  114.0  118.0  124.0  138.0  142.0   90.0   119.0   32.0   \n3  114.0    14.0  104.0   15.0  130.0  124.0    2.0   76.0    39.0   40.0   \n4  135.0    49.0   43.0   43.0    5.0  145.0   83.0   45.0    81.0  121.0   \n\n   ...  MAS1  ADRB1  DRD4  GABRR1  KRT10   PIP  MS4A3  SECISBP2L   EMP3  HOXB1  \n0  ...  23.0   45.0   8.0    26.0  144.0   5.0   51.0       95.0  135.0   58.0  \n1  ...  26.0  104.0   2.0   111.0   82.0  46.0    4.0      117.0  140.0  111.0  \n2  ...   3.0  106.0  12.0    69.0   92.0  54.0   69.0       38.0   61.0   98.0  \n3  ...   9.0   12.0  71.0   134.0  110.0   6.0   11.0       75.0   45.0  137.0  \n4  ...   7.0  125.0  43.0   102.0  128.0  27.0  141.0       33.0  100.0   56.0  \n\n[5 rows x 13582 columns]",
      "text/html": "<div>\n<style scoped>\n    .dataframe tbody tr th:only-of-type {\n        vertical-align: middle;\n    }\n\n    .dataframe tbody tr th {\n        vertical-align: top;\n    }\n\n    .dataframe thead th {\n        text-align: right;\n    }\n</style>\n<table border=\"1\" class=\"dataframe\">\n  <thead>\n    <tr style=\"text-align: right;\">\n      <th></th>\n      <th>STK35</th>\n      <th>DPYSL4</th>\n      <th>GJC2</th>\n      <th>FMNL1</th>\n      <th>LIG3</th>\n      <th>CA6</th>\n      <th>BRPF1</th>\n      <th>BRMS1</th>\n      <th>CXCL13</th>\n      <th>SIAE</th>\n      <th>...</th>\n      <th>MAS1</th>\n      <th>ADRB1</th>\n      <th>DRD4</th>\n      <th>GABRR1</th>\n      <th>KRT10</th>\n      <th>PIP</th>\n      <th>MS4A3</th>\n      <th>SECISBP2L</th>\n      <th>EMP3</th>\n      <th>HOXB1</th>\n    </tr>\n  </thead>\n  <tbody>\n    <tr>\n      <th>0</th>\n      <td>128.0</td>\n      <td>46.0</td>\n      <td>73.0</td>\n      <td>81.0</td>\n      <td>32.0</td>\n      <td>120.0</td>\n      <td>107.0</td>\n      <td>33.0</td>\n      <td>103.0</td>\n      <td>54.0</td>\n      <td>...</td>\n      <td>23.0</td>\n      <td>45.0</td>\n      <td>8.0</td>\n      <td>26.0</td>\n      <td>144.0</td>\n      <td>5.0</td>\n      <td>51.0</td>\n      <td>95.0</td>\n      <td>135.0</td>\n      <td>58.0</td>\n    </tr>\n    <tr>\n      <th>1</th>\n      <td>134.0</td>\n      <td>20.0</td>\n      <td>27.0</td>\n      <td>63.0</td>\n      <td>135.0</td>\n      <td>109.0</td>\n      <td>8.0</td>\n      <td>42.0</td>\n      <td>156.0</td>\n      <td>6.0</td>\n      <td>...</td>\n      <td>26.0</td>\n      <td>104.0</td>\n      <td>2.0</td>\n      <td>111.0</td>\n      <td>82.0</td>\n      <td>46.0</td>\n      <td>4.0</td>\n      <td>117.0</td>\n      <td>140.0</td>\n      <td>111.0</td>\n    </tr>\n    <tr>\n      <th>2</th>\n      <td>113.0</td>\n      <td>70.0</td>\n      <td>114.0</td>\n      <td>118.0</td>\n      <td>124.0</td>\n      <td>138.0</td>\n      <td>142.0</td>\n      <td>90.0</td>\n      <td>119.0</td>\n      <td>32.0</td>\n      <td>...</td>\n      <td>3.0</td>\n      <td>106.0</td>\n      <td>12.0</td>\n      <td>69.0</td>\n      <td>92.0</td>\n      <td>54.0</td>\n      <td>69.0</td>\n      <td>38.0</td>\n      <td>61.0</td>\n      <td>98.0</td>\n    </tr>\n    <tr>\n      <th>3</th>\n      <td>114.0</td>\n      <td>14.0</td>\n      <td>104.0</td>\n      <td>15.0</td>\n      <td>130.0</td>\n      <td>124.0</td>\n      <td>2.0</td>\n      <td>76.0</td>\n      <td>39.0</td>\n      <td>40.0</td>\n      <td>...</td>\n      <td>9.0</td>\n      <td>12.0</td>\n      <td>71.0</td>\n      <td>134.0</td>\n      <td>110.0</td>\n      <td>6.0</td>\n      <td>11.0</td>\n      <td>75.0</td>\n      <td>45.0</td>\n      <td>137.0</td>\n    </tr>\n    <tr>\n      <th>4</th>\n      <td>135.0</td>\n      <td>49.0</td>\n      <td>43.0</td>\n      <td>43.0</td>\n      <td>5.0</td>\n      <td>145.0</td>\n      <td>83.0</td>\n      <td>45.0</td>\n      <td>81.0</td>\n      <td>121.0</td>\n      <td>...</td>\n      <td>7.0</td>\n      <td>125.0</td>\n      <td>43.0</td>\n      <td>102.0</td>\n      <td>128.0</td>\n      <td>27.0</td>\n      <td>141.0</td>\n      <td>33.0</td>\n      <td>100.0</td>\n      <td>56.0</td>\n    </tr>\n  </tbody>\n</table>\n<p>5 rows × 13582 columns</p>\n</div>"
     },
     "execution_count": 47,
     "metadata": {},
     "output_type": "execute_result"
    }
   ],
   "source": [
    "X.head()"
   ]
  },
  {
   "cell_type": "code",
   "execution_count": 48,
   "metadata": {},
   "outputs": [
    {
     "data": {
      "text/plain": "0      0.0\n1      0.0\n2      0.0\n3      0.0\n4      0.0\n      ... \n153    4.0\n154    4.0\n155    4.0\n156    4.0\n157    4.0\nName: Class, Length: 158, dtype: float64"
     },
     "execution_count": 48,
     "metadata": {},
     "output_type": "execute_result"
    }
   ],
   "source": [
    "y.head()"
   ]
  },
  {
   "cell_type": "code",
   "execution_count": 16,
   "outputs": [],
   "source": [
    "from sklearn.model_selection import train_test_split"
   ],
   "metadata": {
    "collapsed": false
   }
  },
  {
   "cell_type": "code",
   "execution_count": 17,
   "outputs": [],
   "source": [
    "X_train, X_test, y_train, y_test = train_test_split(X, y, test_size=0.3, random_state=123)"
   ],
   "metadata": {
    "collapsed": false
   }
  },
  {
   "cell_type": "code",
   "execution_count": 18,
   "outputs": [],
   "source": [
    "#f_score= chi2(X_train, y_train)"
   ],
   "metadata": {
    "collapsed": false
   }
  },
  {
   "cell_type": "code",
   "execution_count": 19,
   "outputs": [],
   "source": [
    "#f_score\n",
    "#f_score[1]\n",
    "#pvalues= pd.Series(f_score[1])\n",
    "#pvalues.index=X_train.columns\n",
    "#pvalues\n",
    "#pvalues.sort_values(ascending=False)\n",
    "\n",
    "#chi2_selector= SelectKBest(chi2, k=2)\n",
    "#X_kbest= chi2_selector.fit_transform(X,y)\n"
   ],
   "metadata": {
    "collapsed": false
   }
  },
  {
   "cell_type": "code",
   "execution_count": 78,
   "outputs": [
    {
     "data": {
      "text/plain": "   STK35  DPYSL4  GJC2  FMNL1  LIG3  CA6  BRPF1  BRMS1  CXCL13  SIAE  ...  \\\n0    128      46    73     81    32  120    107     33     103    54  ...   \n1    134      20    27     63   135  109      8     42     156     6  ...   \n2    113      70   114    118   124  138    142     90     119    32  ...   \n3    114      14   104     15   130  124      2     76      39    40  ...   \n4    135      49    43     43     5  145     83     45      81   121  ...   \n\n   ADRB1  DRD4  GABRR1  KRT10  PIP  MS4A3  SECISBP2L  EMP3  HOXB1  Class  \n0     45     8      26    144    5     51         95   135     58      0  \n1    104     2     111     82   46      4        117   140    111      0  \n2    106    12      69     92   54     69         38    61     98      0  \n3     12    71     134    110    6     11         75    45    137      0  \n4    125    43     102    128   27    141         33   100     56      0  \n\n[5 rows x 13583 columns]",
      "text/html": "<div>\n<style scoped>\n    .dataframe tbody tr th:only-of-type {\n        vertical-align: middle;\n    }\n\n    .dataframe tbody tr th {\n        vertical-align: top;\n    }\n\n    .dataframe thead th {\n        text-align: right;\n    }\n</style>\n<table border=\"1\" class=\"dataframe\">\n  <thead>\n    <tr style=\"text-align: right;\">\n      <th></th>\n      <th>STK35</th>\n      <th>DPYSL4</th>\n      <th>GJC2</th>\n      <th>FMNL1</th>\n      <th>LIG3</th>\n      <th>CA6</th>\n      <th>BRPF1</th>\n      <th>BRMS1</th>\n      <th>CXCL13</th>\n      <th>SIAE</th>\n      <th>...</th>\n      <th>ADRB1</th>\n      <th>DRD4</th>\n      <th>GABRR1</th>\n      <th>KRT10</th>\n      <th>PIP</th>\n      <th>MS4A3</th>\n      <th>SECISBP2L</th>\n      <th>EMP3</th>\n      <th>HOXB1</th>\n      <th>Class</th>\n    </tr>\n  </thead>\n  <tbody>\n    <tr>\n      <th>0</th>\n      <td>128</td>\n      <td>46</td>\n      <td>73</td>\n      <td>81</td>\n      <td>32</td>\n      <td>120</td>\n      <td>107</td>\n      <td>33</td>\n      <td>103</td>\n      <td>54</td>\n      <td>...</td>\n      <td>45</td>\n      <td>8</td>\n      <td>26</td>\n      <td>144</td>\n      <td>5</td>\n      <td>51</td>\n      <td>95</td>\n      <td>135</td>\n      <td>58</td>\n      <td>0</td>\n    </tr>\n    <tr>\n      <th>1</th>\n      <td>134</td>\n      <td>20</td>\n      <td>27</td>\n      <td>63</td>\n      <td>135</td>\n      <td>109</td>\n      <td>8</td>\n      <td>42</td>\n      <td>156</td>\n      <td>6</td>\n      <td>...</td>\n      <td>104</td>\n      <td>2</td>\n      <td>111</td>\n      <td>82</td>\n      <td>46</td>\n      <td>4</td>\n      <td>117</td>\n      <td>140</td>\n      <td>111</td>\n      <td>0</td>\n    </tr>\n    <tr>\n      <th>2</th>\n      <td>113</td>\n      <td>70</td>\n      <td>114</td>\n      <td>118</td>\n      <td>124</td>\n      <td>138</td>\n      <td>142</td>\n      <td>90</td>\n      <td>119</td>\n      <td>32</td>\n      <td>...</td>\n      <td>106</td>\n      <td>12</td>\n      <td>69</td>\n      <td>92</td>\n      <td>54</td>\n      <td>69</td>\n      <td>38</td>\n      <td>61</td>\n      <td>98</td>\n      <td>0</td>\n    </tr>\n    <tr>\n      <th>3</th>\n      <td>114</td>\n      <td>14</td>\n      <td>104</td>\n      <td>15</td>\n      <td>130</td>\n      <td>124</td>\n      <td>2</td>\n      <td>76</td>\n      <td>39</td>\n      <td>40</td>\n      <td>...</td>\n      <td>12</td>\n      <td>71</td>\n      <td>134</td>\n      <td>110</td>\n      <td>6</td>\n      <td>11</td>\n      <td>75</td>\n      <td>45</td>\n      <td>137</td>\n      <td>0</td>\n    </tr>\n    <tr>\n      <th>4</th>\n      <td>135</td>\n      <td>49</td>\n      <td>43</td>\n      <td>43</td>\n      <td>5</td>\n      <td>145</td>\n      <td>83</td>\n      <td>45</td>\n      <td>81</td>\n      <td>121</td>\n      <td>...</td>\n      <td>125</td>\n      <td>43</td>\n      <td>102</td>\n      <td>128</td>\n      <td>27</td>\n      <td>141</td>\n      <td>33</td>\n      <td>100</td>\n      <td>56</td>\n      <td>0</td>\n    </tr>\n  </tbody>\n</table>\n<p>5 rows × 13583 columns</p>\n</div>"
     },
     "execution_count": 78,
     "metadata": {},
     "output_type": "execute_result"
    }
   ],
   "source": [
    "from sklearn.preprocessing import LabelEncoder\n",
    "\n",
    "for col in df.columns:\n",
    "    le = LabelEncoder()\n",
    "    df[col] = le.fit_transform(df[col])\n",
    "df.head()"
   ],
   "metadata": {
    "collapsed": false
   }
  },
  {
   "cell_type": "code",
   "execution_count": 80,
   "outputs": [],
   "source": [
    "from sklearn.feature_selection import chi2\n",
    "\n",
    "X2 = df.drop(columns=['Class'], axis=1)\n",
    "y2 = df['Class']"
   ],
   "metadata": {
    "collapsed": false
   }
  },
  {
   "cell_type": "code",
   "execution_count": 81,
   "outputs": [
    {
     "data": {
      "text/plain": "(array([235.14977607, 183.224132  , 226.33530002, ..., 252.31104765,\n        219.20056223,   8.9996489 ]),\n array([1.02770304e-49, 1.51374539e-38, 8.11815112e-48, ...,\n        2.06865169e-53, 2.78585769e-46, 6.11082575e-02]))"
     },
     "execution_count": 81,
     "metadata": {},
     "output_type": "execute_result"
    }
   ],
   "source": [
    "chi_scores = chi2(X2, y2)\n",
    "chi_scores"
   ],
   "metadata": {
    "collapsed": false
   }
  },
  {
   "cell_type": "code",
   "execution_count": null,
   "outputs": [
    {
     "data": {
      "text/plain": "<Figure size 640x480 with 1 Axes>",
      "image/png": "[encoded data removed]"
     },
     "metadata": {},
     "output_type": "display_data"
    }
   ],
   "source": [
    "# higher the chi value, higher the importance\n",
    "chi_values = pd.Series(chi_scores[0], index=X2.columns)\n",
    "chi_values.sort_values(ascending=False, inplace=True)\n",
    "chi_values.plot.bar()"
   ],
   "metadata": {
    "collapsed": false
   }
  },
  {
   "cell_type": "code",
   "execution_count": 98,
   "outputs": [
    {
     "data": {
      "text/plain": "TBC1D9    3051.250222\nGATA3     2947.192731\nAGR3      2859.384426\nTHSD4     2821.659640\nFOXA1     2777.666195\n             ...     \nUBAP1        4.613070\nPRLHR        4.173949\nSCN11A       3.799679\nTEKT1        2.118612\nMYF5         1.552496\nLength: 13582, dtype: float64"
     },
     "execution_count": 98,
     "metadata": {},
     "output_type": "execute_result"
    }
   ],
   "source": [
    "p_values = pd.Series(chi_scores[0], index=X2.columns)\n",
    "p_values.sort_values(ascending=False, inplace=True)\n",
    "p_values"
   ],
   "metadata": {
    "collapsed": false
   }
  },
  {
   "cell_type": "code",
   "execution_count": 62,
   "outputs": [
    {
     "ename": "AttributeError",
     "evalue": "'numpy.ndarray' object has no attribute 'index'",
     "output_type": "error",
     "traceback": [
      "\u001B[0;31m---------------------------------------------------------------------------\u001B[0m",
      "\u001B[0;31mAttributeError\u001B[0m                            Traceback (most recent call last)",
      "\u001B[0;32m/tmp/ipykernel_4857/3262309129.py\u001B[0m in \u001B[0;36m<module>\u001B[0;34m\u001B[0m\n\u001B[1;32m      3\u001B[0m \u001B[0;31m#print(mutual_info)\u001B[0m\u001B[0;34m\u001B[0m\u001B[0;34m\u001B[0m\u001B[0m\n\u001B[1;32m      4\u001B[0m \u001B[0;31m#mutual_info = pd.Series(mutual_info)\u001B[0m\u001B[0;34m\u001B[0m\u001B[0;34m\u001B[0m\u001B[0m\n\u001B[0;32m----> 5\u001B[0;31m \u001B[0mmutual_info\u001B[0m\u001B[0;34m.\u001B[0m\u001B[0mindex\u001B[0m \u001B[0;34m=\u001B[0m \u001B[0mX\u001B[0m\u001B[0;34m.\u001B[0m\u001B[0mcolumns\u001B[0m\u001B[0;34m\u001B[0m\u001B[0;34m\u001B[0m\u001B[0m\n\u001B[0m\u001B[1;32m      6\u001B[0m \u001B[0mmutual_info\u001B[0m\u001B[0;34m.\u001B[0m\u001B[0msort_values\u001B[0m\u001B[0;34m(\u001B[0m\u001B[0mascending\u001B[0m\u001B[0;34m=\u001B[0m\u001B[0;32mFalse\u001B[0m\u001B[0;34m)\u001B[0m\u001B[0;34m\u001B[0m\u001B[0;34m\u001B[0m\u001B[0m\n\u001B[1;32m      7\u001B[0m \u001B[0mprint\u001B[0m\u001B[0;34m(\u001B[0m\u001B[0mmutual_info\u001B[0m\u001B[0;34m)\u001B[0m\u001B[0;34m\u001B[0m\u001B[0;34m\u001B[0m\u001B[0m\n",
      "\u001B[0;31mAttributeError\u001B[0m: 'numpy.ndarray' object has no attribute 'index'"
     ]
    }
   ],
   "source": [
    "# determine the mutual information\n",
    "mutual_info = mutual_info_classif(X_train, y_train)\n",
    "#print(mutual_info)\n",
    "#mutual_info = pd.Series(mutual_info)\n",
    "mutual_info.index = X_train.columns\n",
    "mutual_info.sort_values(ascending=False)\n",
    "print(mutual_info)\n",
    "print(\"a\")"
   ],
   "metadata": {
    "collapsed": false
   }
  },
  {
   "cell_type": "code",
   "execution_count": 63,
   "outputs": [
    {
     "data": {
      "text/plain": "Index(['AGR3', 'FOXA1', 'PPP1R14C', 'CENPF', 'AR'], dtype='object')"
     },
     "execution_count": 63,
     "metadata": {},
     "output_type": "execute_result"
    }
   ],
   "source": [
    "#No we Will select the top 5 important features\n",
    "sel_five_cols = SelectKBest(mutual_info_classif, k=5)\n",
    "sel_five_cols.fit(X_train, y_train)\n",
    "X_train.columns[sel_five_cols.get_support()]\n",
    "\n"
   ],
   "metadata": {
    "collapsed": false
   }
  },
  {
   "cell_type": "code",
   "execution_count": 126,
   "outputs": [],
   "source": [
    "from sklearn import datasets\n",
    "from sklearn.feature_selection import chi2\n",
    "from sklearn.feature_selection import SelectKBest"
   ],
   "metadata": {
    "collapsed": false
   }
  },
  {
   "cell_type": "code",
   "execution_count": 127,
   "outputs": [
    {
     "data": {
      "text/plain": "array([235.14977607, 183.224132  , 226.33530002, ..., 252.31104765,\n       219.20056223,   8.9996489 ])"
     },
     "execution_count": 127,
     "metadata": {},
     "output_type": "execute_result"
    }
   ],
   "source": [
    "test = SelectKBest(score_func=chi2, k=4)\n",
    "fit = test.fit(X, y)\n",
    "fit.scores_"
   ],
   "metadata": {
    "collapsed": false
   }
  },
  {
   "cell_type": "code",
   "execution_count": 74,
   "outputs": [
    {
     "data": {
      "text/plain": "array([[ 38.,   5.,  44.,   5.],\n       [ 16.,  10.,  52.,  34.],\n       [ 11.,  21.,  24.,  22.],\n       [ 42.,   8.,  34.,  20.],\n       [ 49.,  42.,  38.,  14.],\n       [ 46.,  27.,   6.,  45.],\n       [ 23.,  32.,  18.,  54.],\n       [  6.,  37.,  22.,  71.],\n       [ 51.,  30.,  36.,   7.],\n       [ 14.,   9.,  10.,   0.],\n       [ 31.,  14.,  19.,  32.],\n       [  0.,  26.,  51.,  37.],\n       [ 37.,  24.,  14.,  46.],\n       [  4.,  17.,  12.,  49.],\n       [ 27.,   1.,   0.,  11.],\n       [ 41.,   3.,   5.,   6.],\n       [ 22.,  19.,  25.,  44.],\n       [ 44.,  43.,  23.,  27.],\n       [ 53.,  15.,   7.,  55.],\n       [ 12.,   2.,   9.,  25.],\n       [ 30.,  20.,   4.,  61.],\n       [  2.,  28.,   1.,  61.],\n       [ 45.,  76.,  16.,  16.],\n       [ 40.,  16.,  31.,  21.],\n       [ 13.,  22.,  71.,  40.],\n       [  5.,   4.,  27.,  47.],\n       [ 52.,  59.,  40.,  12.],\n       [ 33.,  23.,  20.,   4.],\n       [  3.,  40.,  41.,  18.],\n       [ 39.,   6.,  42.,   9.],\n       [ 21.,  11.,  21.,   1.],\n       [ 10.,  31.,  37.,   2.],\n       [ 50.,  41.,   3.,  13.],\n       [ 26.,  33.,  15.,   8.],\n       [ 15.,  49.,  56.,  28.],\n       [ 55.,   0.,  39.,  38.],\n       [ 35.,  18.,   2.,   3.],\n       [ 34.,  29.,  11.,  26.],\n       [ 19.,  52.,   8.,  24.],\n       [ 32.,  35.,  35.,  17.],\n       [ 96.,  44.,  50.,  59.],\n       [ 59.,  55.,  29.,  15.],\n       [ 57.,  57.,  30.,  19.],\n       [  7.,  25.,  53.,  35.],\n       [ 17.,   7.,  54.,  69.],\n       [ 94.,  46.,  61.,  66.],\n       [ 47.,  77.,  80.,  96.],\n       [ 54.,  51.,  33.,  57.],\n       [ 77.,  66.,  73.,  43.],\n       [ 18.,  38.,  17.,  23.],\n       [126.,  54.,  59.,  56.],\n       [  1.,  63.,  86.,  72.],\n       [ 28.,  60.,  89.,  75.],\n       [ 43.,  64.,  91.,  83.],\n       [  8.,  53.,  55.,  68.],\n       [ 20.,  39.,  13.,  10.],\n       [ 86.,  45.,  32.,  70.],\n       [ 71.,  65.,  46.,  51.],\n       [ 48.,  25.,  43.,  36.],\n       [ 25.,  12.,  58.,  33.],\n       [ 24.,  34.,  60.,  39.],\n       [  9.,  36.,  45.,  53.],\n       [118.,  91., 128.,  80.],\n       [ 90., 116., 114., 152.],\n       [ 81.,  98.,  75.,  73.],\n       [129., 103., 106., 115.],\n       [155., 121., 149., 148.],\n       [ 98., 141.,  82., 126.],\n       [152., 105., 140.,  82.],\n       [ 72., 124.,  76.,  52.],\n       [119., 135., 130.,  76.],\n       [124.,  69.,  81.,  63.],\n       [ 56., 153., 123., 139.],\n       [147., 125., 108., 149.],\n       [141., 146., 112., 130.],\n       [ 85., 101., 139., 118.],\n       [ 61., 144., 155., 151.],\n       [131., 108., 133., 101.],\n       [110., 107., 121., 140.],\n       [130., 151., 118.,  84.],\n       [111.,  82.,  65.,  93.],\n       [ 73., 132.,  96., 105.],\n       [ 83.,  86., 134., 124.],\n       [127.,  95.,  87.,  94.],\n       [105., 115., 107., 107.],\n       [148., 145., 124.,  86.],\n       [ 82., 149., 138.,  89.],\n       [ 79., 102.,  99., 142.],\n       [ 88.,  97.,  97., 129.],\n       [ 75., 118., 116., 153.],\n       [104., 138., 110., 114.],\n       [ 99., 140.,  83., 122.],\n       [107.,  92., 117.,  64.],\n       [ 92.,  99., 136., 136.],\n       [135., 127.,  93.,  97.],\n       [121.,  73.,  95.,  77.],\n       [115., 126., 129.,  81.],\n       [125., 112.,  69., 137.],\n       [120., 133., 103., 127.],\n       [108.,  94.,  78., 138.],\n       [144., 119., 131.,  90.],\n       [ 84.,  89., 125., 134.],\n       [ 60.,  96., 146., 132.],\n       [153., 117., 142., 111.],\n       [139.,  80., 147., 150.],\n       [157., 129., 152., 116.],\n       [156., 150., 153., 145.],\n       [151.,  84., 126., 127.],\n       [101.,  65., 100., 133.],\n       [133., 128., 141., 106.],\n       [117., 100., 102., 120.],\n       [ 91.,  88., 113., 128.],\n       [142., 137., 154., 154.],\n       [102., 131., 115.,  65.],\n       [150.,  71.,  49., 102.],\n       [128.,  75., 119., 104.],\n       [132., 152., 151., 113.],\n       [ 95., 143., 104., 131.],\n       [109.,  93.,  85.,  87.],\n       [ 93., 136., 109., 135.],\n       [134., 123., 137., 100.],\n       [116.,  87.,  94.,  79.],\n       [ 87., 142.,  72.,  88.],\n       [145., 114., 105., 146.],\n       [140., 147.,  77., 125.],\n       [136., 106., 143., 121.],\n       [154., 148., 132., 141.],\n       [112., 120., 127., 147.],\n       [143., 154., 122., 112.],\n       [149., 111., 150.,  98.],\n       [146., 134., 120., 103.],\n       [ 89.,  79.,  98.,  99.],\n       [ 76.,  63.,  88.,  91.],\n       [ 78.,  58.,  79.,  95.],\n       [138., 139., 148., 117.],\n       [103.,  61.,  84., 108.],\n       [106., 130., 135., 144.],\n       [137.,  78., 111., 109.],\n       [122.,  90., 156.,  85.],\n       [100., 110., 144., 155.],\n       [ 74.,  67.,  63., 110.],\n       [123.,  48., 101., 123.],\n       [114.,  70.,  90.,  67.],\n       [ 97.,  56., 137., 119.],\n       [113.,  85., 145., 143.],\n       [ 67.,  72.,  68.,  62.],\n       [ 70.,  81.,  28.,  74.],\n       [ 64.,  74.,  66.,  50.],\n       [ 62.,  83.,  64.,  42.],\n       [ 36.,  62.,  48.,  31.],\n       [ 66.,  50.,  62.,  60.],\n       [ 58., 109.,  47.,  29.],\n       [ 29.,  13.,  26.,  41.],\n       [ 65., 113.,  57.,  58.],\n       [ 69., 104.,  74.,  48.],\n       [ 80., 122.,  92.,  78.],\n       [ 63.,  68.,  67.,  92.],\n       [ 68.,  47.,  70.,  30.]])"
     },
     "execution_count": 74,
     "metadata": {},
     "output_type": "execute_result"
    }
   ],
   "source": [
    "X_new = test.fit_transform(X, y)\n",
    "X_new"
   ],
   "metadata": {
    "collapsed": false
   }
  },
  {
   "cell_type": "code",
   "execution_count": 137,
   "outputs": [
    {
     "data": {
      "text/plain": "     AGR3  FOXA1  THSD4  TBC1D9  GATA3\n0    38.0   29.0    5.0    44.0    5.0\n1    16.0    5.0   10.0    52.0   34.0\n2    11.0   39.0   21.0    24.0   22.0\n3    42.0   16.0    8.0    34.0   20.0\n4    49.0   15.0   42.0    38.0   14.0\n..    ...    ...    ...     ...    ...\n153  65.0   54.0  113.0    57.0   58.0\n154  69.0   50.0  104.0    74.0   48.0\n155  80.0   55.0  122.0    92.0   78.0\n156  63.0   58.0   68.0    67.0   92.0\n157  68.0   78.0   47.0    70.0   30.0\n\n[158 rows x 5 columns]",
      "text/html": "<div>\n<style scoped>\n    .dataframe tbody tr th:only-of-type {\n        vertical-align: middle;\n    }\n\n    .dataframe tbody tr th {\n        vertical-align: top;\n    }\n\n    .dataframe thead th {\n        text-align: right;\n    }\n</style>\n<table border=\"1\" class=\"dataframe\">\n  <thead>\n    <tr style=\"text-align: right;\">\n      <th></th>\n      <th>AGR3</th>\n      <th>FOXA1</th>\n      <th>THSD4</th>\n      <th>TBC1D9</th>\n      <th>GATA3</th>\n    </tr>\n  </thead>\n  <tbody>\n    <tr>\n      <th>0</th>\n      <td>38.0</td>\n      <td>29.0</td>\n      <td>5.0</td>\n      <td>44.0</td>\n      <td>5.0</td>\n    </tr>\n    <tr>\n      <th>1</th>\n      <td>16.0</td>\n      <td>5.0</td>\n      <td>10.0</td>\n      <td>52.0</td>\n      <td>34.0</td>\n    </tr>\n    <tr>\n      <th>2</th>\n      <td>11.0</td>\n      <td>39.0</td>\n      <td>21.0</td>\n      <td>24.0</td>\n      <td>22.0</td>\n    </tr>\n    <tr>\n      <th>3</th>\n      <td>42.0</td>\n      <td>16.0</td>\n      <td>8.0</td>\n      <td>34.0</td>\n      <td>20.0</td>\n    </tr>\n    <tr>\n      <th>4</th>\n      <td>49.0</td>\n      <td>15.0</td>\n      <td>42.0</td>\n      <td>38.0</td>\n      <td>14.0</td>\n    </tr>\n    <tr>\n      <th>...</th>\n      <td>...</td>\n      <td>...</td>\n      <td>...</td>\n      <td>...</td>\n      <td>...</td>\n    </tr>\n    <tr>\n      <th>153</th>\n      <td>65.0</td>\n      <td>54.0</td>\n      <td>113.0</td>\n      <td>57.0</td>\n      <td>58.0</td>\n    </tr>\n    <tr>\n      <th>154</th>\n      <td>69.0</td>\n      <td>50.0</td>\n      <td>104.0</td>\n      <td>74.0</td>\n      <td>48.0</td>\n    </tr>\n    <tr>\n      <th>155</th>\n      <td>80.0</td>\n      <td>55.0</td>\n      <td>122.0</td>\n      <td>92.0</td>\n      <td>78.0</td>\n    </tr>\n    <tr>\n      <th>156</th>\n      <td>63.0</td>\n      <td>58.0</td>\n      <td>68.0</td>\n      <td>67.0</td>\n      <td>92.0</td>\n    </tr>\n    <tr>\n      <th>157</th>\n      <td>68.0</td>\n      <td>78.0</td>\n      <td>47.0</td>\n      <td>70.0</td>\n      <td>30.0</td>\n    </tr>\n  </tbody>\n</table>\n<p>158 rows × 5 columns</p>\n</div>"
     },
     "execution_count": 137,
     "metadata": {},
     "output_type": "execute_result"
    }
   ],
   "source": [
    "# chi2_selector = SelectKBest(chi2, k=4)\n",
    "# X_kbest = chi2_selector.fit_transform(X, y)\n",
    "# print(X_kbest)\n",
    "# print('Original number of features:', X.shape)\n",
    "# print('Reduced number of features:', X_kbest.shape)\n",
    "# X_kbest\n",
    "# cols = chi2_selector.get_support(indices=True)\n",
    "# features_df_new = chi2_selector.iloc[:,cols]\n",
    "selector = SelectKBest(chi2, k=5)\n",
    "selector.fit(X, y)\n",
    "# Get columns to keep and create new dataframe with those only\n",
    "cols = selector.get_support(indices=True)\n",
    "features_df_new = X.iloc[:, cols]\n",
    "features_df_new"
   ],
   "metadata": {
    "collapsed": false
   }
  },
  {
   "cell_type": "code",
   "execution_count": 113,
   "outputs": [],
   "source": [
    "from sklearn.metrics import confusion_matrix\n",
    "\n",
    "\n",
    "def confusion_matrix_scorer(clf, X, y):\n",
    "    y_pred = clf.predict(X)\n",
    "    cm = confusion_matrix(y, y_pred)\n",
    "    return {'TN': cm[0, 0], 'FP': cm[0, 1], 'FN': cm[1, 0], 'TP': cm[1, 1]\n",
    "        , 'PPV': np.divide(cm[1, 1], cm[1, 1] + cm[0, 1], where=cm[1, 1] + cm[0, 1] != 0)\n",
    "        , 'NPV': np.divide(cm[0, 0], cm[0, 0] + cm[1, 0], where=cm[0, 0] + cm[1, 0] != 0)\n",
    "        , 'Sensitivity': np.divide(cm[1, 1], cm[1, 1] + cm[1, 0], where=cm[1, 1] + cm[1, 0] != 0)\n",
    "        , 'Specificity': np.divide(cm[0, 0], cm[0, 0] + cm[0, 1], where=cm[0, 0] + cm[0, 1] != 0)\n",
    "        , 'Accuracy': np.divide(cm[1, 1] + cm[0, 0], cm[0, 0] + cm[0, 1] + cm[1, 0] + cm[1, 1],\n",
    "                                where=cm[0, 0] + cm[0, 1] + cm[1, 0] + cm[1, 1] != 0)}"
   ],
   "metadata": {
    "collapsed": false
   }
  },
  {
   "cell_type": "code",
   "execution_count": 114,
   "metadata": {},
   "outputs": [],
   "source": [
    "per_can = MLPClassifier(random_state=1, max_iter=300)"
   ]
  },
  {
   "cell_type": "code",
   "execution_count": 115,
   "metadata": {},
   "outputs": [],
   "source": [
    "cv_results_circle = cross_validate(per_can, X, y, cv=2, scoring=confusion_matrix_scorer)"
   ]
  },
  {
   "cell_type": "code",
   "execution_count": 116,
   "metadata": {},
   "outputs": [],
   "source": [
    "acc_circle = np.mean(cv_results_circle['test_Accuracy'])"
   ]
  },
  {
   "cell_type": "code",
   "execution_count": 117,
   "metadata": {},
   "outputs": [
    {
     "name": "stdout",
     "output_type": "stream",
     "text": [
      "0.9444444444444444\n",
      "0.8809523809523809\n",
      "0.5666666666666667\n",
      "0.975\n",
      "0.8833333333333333\n"
     ]
    }
   ],
   "source": [
    "print(np.mean(cv_results_circle['test_PPV']))\n",
    "print(np.mean(cv_results_circle['test_NPV']))\n",
    "print(np.mean(cv_results_circle['test_Sensitivity']))\n",
    "print(np.mean(cv_results_circle['test_Specificity']))\n",
    "print(np.mean(cv_results_circle['test_Accuracy']))"
   ]
  },
  {
   "cell_type": "code",
   "execution_count": 56,
   "outputs": [
    {
     "data": {
      "text/plain": "     STK35  DPYSL4   GJC2  FMNL1   LIG3    CA6  BRPF1  BRMS1  CXCL13   SIAE  \\\n0    128.0    46.0   73.0   81.0   32.0  120.0  107.0   33.0   103.0   54.0   \n1    134.0    20.0   27.0   63.0  135.0  109.0    8.0   42.0   156.0    6.0   \n2    113.0    70.0  114.0  118.0  124.0  138.0  142.0   90.0   119.0   32.0   \n3    114.0    14.0  104.0   15.0  130.0  124.0    2.0   76.0    39.0   40.0   \n4    135.0    49.0   43.0   43.0    5.0  145.0   83.0   45.0    81.0  121.0   \n..     ...     ...    ...    ...    ...    ...    ...    ...     ...    ...   \n153    8.0   139.0   53.0  142.0   30.0  127.0  129.0   61.0   137.0  123.0   \n154   12.0    52.0   99.0   20.0   35.0   29.0   97.0   47.0   152.0   70.0   \n155   57.0   118.0  117.0   47.0   62.0  111.0   89.0  102.0    21.0  112.0   \n156   83.0    40.0  100.0   10.0   52.0  100.0   57.0   49.0    67.0   31.0   \n157   34.0   115.0  142.0    1.0   22.0   71.0   48.0   30.0    55.0  148.0   \n\n     ...   MAS1  ADRB1   DRD4  GABRR1  KRT10    PIP  MS4A3  SECISBP2L   EMP3  \\\n0    ...   23.0   45.0    8.0    26.0  144.0    5.0   51.0       95.0  135.0   \n1    ...   26.0  104.0    2.0   111.0   82.0   46.0    4.0      117.0  140.0   \n2    ...    3.0  106.0   12.0    69.0   92.0   54.0   69.0       38.0   61.0   \n3    ...    9.0   12.0   71.0   134.0  110.0    6.0   11.0       75.0   45.0   \n4    ...    7.0  125.0   43.0   102.0  128.0   27.0  141.0       33.0  100.0   \n..   ...    ...    ...    ...     ...    ...    ...    ...        ...    ...   \n153  ...   27.0   50.0  118.0    13.0   30.0  142.0  138.0       12.0  112.0   \n154  ...  120.0  117.0  139.0    33.0   78.0  145.0  109.0       56.0   75.0   \n155  ...   97.0   25.0  135.0    63.0   68.0  135.0  135.0       91.0  107.0   \n156  ...   35.0   92.0  114.0    72.0   22.0  150.0   50.0       15.0  126.0   \n157  ...  116.0   27.0  120.0   123.0   63.0  151.0   16.0      149.0   17.0   \n\n     HOXB1  \n0     58.0  \n1    111.0  \n2     98.0  \n3    137.0  \n4     56.0  \n..     ...  \n153   12.0  \n154   50.0  \n155   68.0  \n156  119.0  \n157  109.0  \n\n[158 rows x 13582 columns]",
      "text/html": "<div>\n<style scoped>\n    .dataframe tbody tr th:only-of-type {\n        vertical-align: middle;\n    }\n\n    .dataframe tbody tr th {\n        vertical-align: top;\n    }\n\n    .dataframe thead th {\n        text-align: right;\n    }\n</style>\n<table border=\"1\" class=\"dataframe\">\n  <thead>\n    <tr style=\"text-align: right;\">\n      <th></th>\n      <th>STK35</th>\n      <th>DPYSL4</th>\n      <th>GJC2</th>\n      <th>FMNL1</th>\n      <th>LIG3</th>\n      <th>CA6</th>\n      <th>BRPF1</th>\n      <th>BRMS1</th>\n      <th>CXCL13</th>\n      <th>SIAE</th>\n      <th>...</th>\n      <th>MAS1</th>\n      <th>ADRB1</th>\n      <th>DRD4</th>\n      <th>GABRR1</th>\n      <th>KRT10</th>\n      <th>PIP</th>\n      <th>MS4A3</th>\n      <th>SECISBP2L</th>\n      <th>EMP3</th>\n      <th>HOXB1</th>\n    </tr>\n  </thead>\n  <tbody>\n    <tr>\n      <th>0</th>\n      <td>128.0</td>\n      <td>46.0</td>\n      <td>73.0</td>\n      <td>81.0</td>\n      <td>32.0</td>\n      <td>120.0</td>\n      <td>107.0</td>\n      <td>33.0</td>\n      <td>103.0</td>\n      <td>54.0</td>\n      <td>...</td>\n      <td>23.0</td>\n      <td>45.0</td>\n      <td>8.0</td>\n      <td>26.0</td>\n      <td>144.0</td>\n      <td>5.0</td>\n      <td>51.0</td>\n      <td>95.0</td>\n      <td>135.0</td>\n      <td>58.0</td>\n    </tr>\n    <tr>\n      <th>1</th>\n      <td>134.0</td>\n      <td>20.0</td>\n      <td>27.0</td>\n      <td>63.0</td>\n      <td>135.0</td>\n      <td>109.0</td>\n      <td>8.0</td>\n      <td>42.0</td>\n      <td>156.0</td>\n      <td>6.0</td>\n      <td>...</td>\n      <td>26.0</td>\n      <td>104.0</td>\n      <td>2.0</td>\n      <td>111.0</td>\n      <td>82.0</td>\n      <td>46.0</td>\n      <td>4.0</td>\n      <td>117.0</td>\n      <td>140.0</td>\n      <td>111.0</td>\n    </tr>\n    <tr>\n      <th>2</th>\n      <td>113.0</td>\n      <td>70.0</td>\n      <td>114.0</td>\n      <td>118.0</td>\n      <td>124.0</td>\n      <td>138.0</td>\n      <td>142.0</td>\n      <td>90.0</td>\n      <td>119.0</td>\n      <td>32.0</td>\n      <td>...</td>\n      <td>3.0</td>\n      <td>106.0</td>\n      <td>12.0</td>\n      <td>69.0</td>\n      <td>92.0</td>\n      <td>54.0</td>\n      <td>69.0</td>\n      <td>38.0</td>\n      <td>61.0</td>\n      <td>98.0</td>\n    </tr>\n    <tr>\n      <th>3</th>\n      <td>114.0</td>\n      <td>14.0</td>\n      <td>104.0</td>\n      <td>15.0</td>\n      <td>130.0</td>\n      <td>124.0</td>\n      <td>2.0</td>\n      <td>76.0</td>\n      <td>39.0</td>\n      <td>40.0</td>\n      <td>...</td>\n      <td>9.0</td>\n      <td>12.0</td>\n      <td>71.0</td>\n      <td>134.0</td>\n      <td>110.0</td>\n      <td>6.0</td>\n      <td>11.0</td>\n      <td>75.0</td>\n      <td>45.0</td>\n      <td>137.0</td>\n    </tr>\n    <tr>\n      <th>4</th>\n      <td>135.0</td>\n      <td>49.0</td>\n      <td>43.0</td>\n      <td>43.0</td>\n      <td>5.0</td>\n      <td>145.0</td>\n      <td>83.0</td>\n      <td>45.0</td>\n      <td>81.0</td>\n      <td>121.0</td>\n      <td>...</td>\n      <td>7.0</td>\n      <td>125.0</td>\n      <td>43.0</td>\n      <td>102.0</td>\n      <td>128.0</td>\n      <td>27.0</td>\n      <td>141.0</td>\n      <td>33.0</td>\n      <td>100.0</td>\n      <td>56.0</td>\n    </tr>\n    <tr>\n      <th>...</th>\n      <td>...</td>\n      <td>...</td>\n      <td>...</td>\n      <td>...</td>\n      <td>...</td>\n      <td>...</td>\n      <td>...</td>\n      <td>...</td>\n      <td>...</td>\n      <td>...</td>\n      <td>...</td>\n      <td>...</td>\n      <td>...</td>\n      <td>...</td>\n      <td>...</td>\n      <td>...</td>\n      <td>...</td>\n      <td>...</td>\n      <td>...</td>\n      <td>...</td>\n      <td>...</td>\n    </tr>\n    <tr>\n      <th>153</th>\n      <td>8.0</td>\n      <td>139.0</td>\n      <td>53.0</td>\n      <td>142.0</td>\n      <td>30.0</td>\n      <td>127.0</td>\n      <td>129.0</td>\n      <td>61.0</td>\n      <td>137.0</td>\n      <td>123.0</td>\n      <td>...</td>\n      <td>27.0</td>\n      <td>50.0</td>\n      <td>118.0</td>\n      <td>13.0</td>\n      <td>30.0</td>\n      <td>142.0</td>\n      <td>138.0</td>\n      <td>12.0</td>\n      <td>112.0</td>\n      <td>12.0</td>\n    </tr>\n    <tr>\n      <th>154</th>\n      <td>12.0</td>\n      <td>52.0</td>\n      <td>99.0</td>\n      <td>20.0</td>\n      <td>35.0</td>\n      <td>29.0</td>\n      <td>97.0</td>\n      <td>47.0</td>\n      <td>152.0</td>\n      <td>70.0</td>\n      <td>...</td>\n      <td>120.0</td>\n      <td>117.0</td>\n      <td>139.0</td>\n      <td>33.0</td>\n      <td>78.0</td>\n      <td>145.0</td>\n      <td>109.0</td>\n      <td>56.0</td>\n      <td>75.0</td>\n      <td>50.0</td>\n    </tr>\n    <tr>\n      <th>155</th>\n      <td>57.0</td>\n      <td>118.0</td>\n      <td>117.0</td>\n      <td>47.0</td>\n      <td>62.0</td>\n      <td>111.0</td>\n      <td>89.0</td>\n      <td>102.0</td>\n      <td>21.0</td>\n      <td>112.0</td>\n      <td>...</td>\n      <td>97.0</td>\n      <td>25.0</td>\n      <td>135.0</td>\n      <td>63.0</td>\n      <td>68.0</td>\n      <td>135.0</td>\n      <td>135.0</td>\n      <td>91.0</td>\n      <td>107.0</td>\n      <td>68.0</td>\n    </tr>\n    <tr>\n      <th>156</th>\n      <td>83.0</td>\n      <td>40.0</td>\n      <td>100.0</td>\n      <td>10.0</td>\n      <td>52.0</td>\n      <td>100.0</td>\n      <td>57.0</td>\n      <td>49.0</td>\n      <td>67.0</td>\n      <td>31.0</td>\n      <td>...</td>\n      <td>35.0</td>\n      <td>92.0</td>\n      <td>114.0</td>\n      <td>72.0</td>\n      <td>22.0</td>\n      <td>150.0</td>\n      <td>50.0</td>\n      <td>15.0</td>\n      <td>126.0</td>\n      <td>119.0</td>\n    </tr>\n    <tr>\n      <th>157</th>\n      <td>34.0</td>\n      <td>115.0</td>\n      <td>142.0</td>\n      <td>1.0</td>\n      <td>22.0</td>\n      <td>71.0</td>\n      <td>48.0</td>\n      <td>30.0</td>\n      <td>55.0</td>\n      <td>148.0</td>\n      <td>...</td>\n      <td>116.0</td>\n      <td>27.0</td>\n      <td>120.0</td>\n      <td>123.0</td>\n      <td>63.0</td>\n      <td>151.0</td>\n      <td>16.0</td>\n      <td>149.0</td>\n      <td>17.0</td>\n      <td>109.0</td>\n    </tr>\n  </tbody>\n</table>\n<p>158 rows × 13582 columns</p>\n</div>"
     },
     "execution_count": 56,
     "metadata": {},
     "output_type": "execute_result"
    }
   ],
   "source": [
    "X"
   ],
   "metadata": {
    "collapsed": false
   }
  },
  {
   "cell_type": "code",
   "execution_count": 151,
   "metadata": {},
   "outputs": [],
   "source": [
    "# X_tests = df.filter(['AGR3', 'FOXA1', 'PPP1R14C', 'CENPF', 'AR'])\n",
    "X_tests = df.filter(['AGR3', 'FOXA1', 'THSD4', 'TBC1D9', 'GATA3'])\n",
    "# X_tests = df.filter(['MYF5', 'TEKT1', 'SCN11A', 'PRLHR', 'UBAP1'])\n",
    "# X_tests = df.filter(['TBC1D9', 'GATA3', 'AGR3', 'THSD4', 'FOXA1'])"
   ]
  },
  {
   "cell_type": "code",
   "execution_count": 152,
   "outputs": [
    {
     "data": {
      "text/plain": "     AGR3  FOXA1  THSD4  TBC1D9  GATA3\n0      38     29      5      44      5\n1      16      5     10      52     34\n2      11     39     21      24     22\n3      42     16      8      34     20\n4      49     15     42      38     14\n..    ...    ...    ...     ...    ...\n153    65     54    113      57     58\n154    69     50    104      74     48\n155    80     55    122      92     78\n156    63     58     68      67     92\n157    68     78     47      70     30\n\n[158 rows x 5 columns]",
      "text/html": "<div>\n<style scoped>\n    .dataframe tbody tr th:only-of-type {\n        vertical-align: middle;\n    }\n\n    .dataframe tbody tr th {\n        vertical-align: top;\n    }\n\n    .dataframe thead th {\n        text-align: right;\n    }\n</style>\n<table border=\"1\" class=\"dataframe\">\n  <thead>\n    <tr style=\"text-align: right;\">\n      <th></th>\n      <th>AGR3</th>\n      <th>FOXA1</th>\n      <th>THSD4</th>\n      <th>TBC1D9</th>\n      <th>GATA3</th>\n    </tr>\n  </thead>\n  <tbody>\n    <tr>\n      <th>0</th>\n      <td>38</td>\n      <td>29</td>\n      <td>5</td>\n      <td>44</td>\n      <td>5</td>\n    </tr>\n    <tr>\n      <th>1</th>\n      <td>16</td>\n      <td>5</td>\n      <td>10</td>\n      <td>52</td>\n      <td>34</td>\n    </tr>\n    <tr>\n      <th>2</th>\n      <td>11</td>\n      <td>39</td>\n      <td>21</td>\n      <td>24</td>\n      <td>22</td>\n    </tr>\n    <tr>\n      <th>3</th>\n      <td>42</td>\n      <td>16</td>\n      <td>8</td>\n      <td>34</td>\n      <td>20</td>\n    </tr>\n    <tr>\n      <th>4</th>\n      <td>49</td>\n      <td>15</td>\n      <td>42</td>\n      <td>38</td>\n      <td>14</td>\n    </tr>\n    <tr>\n      <th>...</th>\n      <td>...</td>\n      <td>...</td>\n      <td>...</td>\n      <td>...</td>\n      <td>...</td>\n    </tr>\n    <tr>\n      <th>153</th>\n      <td>65</td>\n      <td>54</td>\n      <td>113</td>\n      <td>57</td>\n      <td>58</td>\n    </tr>\n    <tr>\n      <th>154</th>\n      <td>69</td>\n      <td>50</td>\n      <td>104</td>\n      <td>74</td>\n      <td>48</td>\n    </tr>\n    <tr>\n      <th>155</th>\n      <td>80</td>\n      <td>55</td>\n      <td>122</td>\n      <td>92</td>\n      <td>78</td>\n    </tr>\n    <tr>\n      <th>156</th>\n      <td>63</td>\n      <td>58</td>\n      <td>68</td>\n      <td>67</td>\n      <td>92</td>\n    </tr>\n    <tr>\n      <th>157</th>\n      <td>68</td>\n      <td>78</td>\n      <td>47</td>\n      <td>70</td>\n      <td>30</td>\n    </tr>\n  </tbody>\n</table>\n<p>158 rows × 5 columns</p>\n</div>"
     },
     "execution_count": 152,
     "metadata": {},
     "output_type": "execute_result"
    }
   ],
   "source": [
    "X_tests"
   ],
   "metadata": {
    "collapsed": false
   }
  },
  {
   "cell_type": "code",
   "execution_count": 155,
   "metadata": {},
   "outputs": [],
   "source": [
    "cv_results_circle = cross_validate(per_can, X_tests, y, cv=2, scoring=confusion_matrix_scorer)"
   ]
  },
  {
   "cell_type": "code",
   "execution_count": 156,
   "outputs": [
    {
     "name": "stdout",
     "output_type": "stream",
     "text": [
      "0.16666666666666666\n",
      "0.5\n",
      "0.5\n",
      "0.0\n",
      "0.16666666666666666\n"
     ]
    }
   ],
   "source": [
    "print(np.mean(cv_results_circle['test_PPV']))\n",
    "print(np.mean(cv_results_circle['test_NPV']))\n",
    "print(np.mean(cv_results_circle['test_Sensitivity']))\n",
    "print(np.mean(cv_results_circle['test_Specificity']))\n",
    "print(np.mean(cv_results_circle['test_Accuracy']))"
   ],
   "metadata": {
    "collapsed": false
   }
  },
  {
   "cell_type": "code",
   "execution_count": null,
   "outputs": [],
   "source": [],
   "metadata": {
    "collapsed": false
   }
  }
 ],
 "metadata": {
  "kernelspec": {
   "display_name": "Python 3",
   "language": "python",
   "name": "python3"
  },
  "language_info": {
   "codemirror_mode": {
    "name": "ipython",
    "version": 3
   },
   "file_extension": ".py",
   "mimetype": "text/x-python",
   "name": "python",
   "nbconvert_exporter": "python",
   "pygments_lexer": "ipython3",
   "version": "3.8.5"
  }
 },
 "nbformat": 4,
 "nbformat_minor": 4
}
