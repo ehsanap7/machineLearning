{
 "cells": [
  {
   "cell_type": "code",
   "execution_count": 35,
   "metadata": {},
   "outputs": [],
   "source": [
    "import numpy as np\n",
    "import pandas as pd\n",
    "import seaborn as sns\n",
    "from sklearn.preprocessing import LabelEncoder\n",
    "from sklearn.preprocessing import MinMaxScaler\n",
    "from sklearn.feature_selection import chi2\n",
    "from sklearn.feature_selection import SelectKBest\n",
    "from sklearn.feature_selection import f_classif\n",
    "from sklearn.feature_selection import mutual_info_classif\n",
    "from sklearn.linear_model import Perceptron\n",
    "from sklearn.model_selection import cross_validate"
   ]
  },
  {
   "cell_type": "code",
   "execution_count": 39,
   "outputs": [],
   "source": [
    "import matplotlib.pyplot as plt\n",
    "import pandas as pd\n",
    "import numpy as np\n",
    "from sklearn.model_selection import cross_validate, train_test_split\n",
    "from sklearn.metrics import confusion_matrix\n",
    "from matplotlib.colors import ListedColormap\n",
    "import scipy.stats as st\n",
    "from sklearn import svm\n",
    "from sklearn.model_selection import GridSearchCV\n",
    "from sklearn.datasets import load_iris\n",
    "from sklearn import tree\n",
    "import graphviz\n",
    "from sklearn.ensemble import RandomForestClassifier\n",
    "from sklearn.linear_model import Perceptron"
   ],
   "metadata": {
    "collapsed": false
   }
  },
  {
   "cell_type": "code",
   "execution_count": 2,
   "metadata": {},
   "outputs": [
    {
     "data": {
      "text/plain": "   STK35  DPYSL4   GJC2  FMNL1   LIG3    CA6  BRPF1  BRMS1  CXCL13   SIAE  \\\n0  0.425  -0.316  0.465 -0.142 -0.033  0.357 -0.197 -0.280   3.164 -0.086   \n1  0.694  -0.497  0.200 -0.215  0.852  0.300 -0.864 -0.222   6.179 -0.649   \n2  0.304  -0.205  0.739  0.176  0.726  0.715  0.298  0.147   3.612 -0.230   \n3  0.309  -0.561  0.669 -0.514  0.805  0.409 -0.974  0.054   1.280 -0.150   \n4  0.732  -0.287  0.311 -0.326 -0.468  1.887 -0.347 -0.193   2.410  0.479   \n\n   ...  ADRB1   DRD4  GABRR1  KRT10    PIP  MS4A3  SECISBP2L   EMP3  HOXB1  \\\n0  ... -0.188 -0.015  -0.035  0.722  0.131 -0.545      0.323 -0.400  0.064   \n1  ...  0.200 -0.416   0.293 -0.795  1.785 -1.224      0.505 -0.275  0.300   \n2  ...  0.211  0.170   0.156 -0.733  2.414 -0.435      0.047 -0.980  0.233   \n3  ... -0.532  0.884   0.633 -0.586  0.163 -0.987      0.223 -1.090  0.603   \n4  ...  0.354  0.596   0.270 -0.282  0.601  0.164      0.040 -0.705  0.054   \n\n   Class  \n0  Basal  \n1  Basal  \n2  Basal  \n3  Basal  \n4  Basal  \n\n[5 rows x 13583 columns]",
      "text/html": "<div>\n<style scoped>\n    .dataframe tbody tr th:only-of-type {\n        vertical-align: middle;\n    }\n\n    .dataframe tbody tr th {\n        vertical-align: top;\n    }\n\n    .dataframe thead th {\n        text-align: right;\n    }\n</style>\n<table border=\"1\" class=\"dataframe\">\n  <thead>\n    <tr style=\"text-align: right;\">\n      <th></th>\n      <th>STK35</th>\n      <th>DPYSL4</th>\n      <th>GJC2</th>\n      <th>FMNL1</th>\n      <th>LIG3</th>\n      <th>CA6</th>\n      <th>BRPF1</th>\n      <th>BRMS1</th>\n      <th>CXCL13</th>\n      <th>SIAE</th>\n      <th>...</th>\n      <th>ADRB1</th>\n      <th>DRD4</th>\n      <th>GABRR1</th>\n      <th>KRT10</th>\n      <th>PIP</th>\n      <th>MS4A3</th>\n      <th>SECISBP2L</th>\n      <th>EMP3</th>\n      <th>HOXB1</th>\n      <th>Class</th>\n    </tr>\n  </thead>\n  <tbody>\n    <tr>\n      <th>0</th>\n      <td>0.425</td>\n      <td>-0.316</td>\n      <td>0.465</td>\n      <td>-0.142</td>\n      <td>-0.033</td>\n      <td>0.357</td>\n      <td>-0.197</td>\n      <td>-0.280</td>\n      <td>3.164</td>\n      <td>-0.086</td>\n      <td>...</td>\n      <td>-0.188</td>\n      <td>-0.015</td>\n      <td>-0.035</td>\n      <td>0.722</td>\n      <td>0.131</td>\n      <td>-0.545</td>\n      <td>0.323</td>\n      <td>-0.400</td>\n      <td>0.064</td>\n      <td>Basal</td>\n    </tr>\n    <tr>\n      <th>1</th>\n      <td>0.694</td>\n      <td>-0.497</td>\n      <td>0.200</td>\n      <td>-0.215</td>\n      <td>0.852</td>\n      <td>0.300</td>\n      <td>-0.864</td>\n      <td>-0.222</td>\n      <td>6.179</td>\n      <td>-0.649</td>\n      <td>...</td>\n      <td>0.200</td>\n      <td>-0.416</td>\n      <td>0.293</td>\n      <td>-0.795</td>\n      <td>1.785</td>\n      <td>-1.224</td>\n      <td>0.505</td>\n      <td>-0.275</td>\n      <td>0.300</td>\n      <td>Basal</td>\n    </tr>\n    <tr>\n      <th>2</th>\n      <td>0.304</td>\n      <td>-0.205</td>\n      <td>0.739</td>\n      <td>0.176</td>\n      <td>0.726</td>\n      <td>0.715</td>\n      <td>0.298</td>\n      <td>0.147</td>\n      <td>3.612</td>\n      <td>-0.230</td>\n      <td>...</td>\n      <td>0.211</td>\n      <td>0.170</td>\n      <td>0.156</td>\n      <td>-0.733</td>\n      <td>2.414</td>\n      <td>-0.435</td>\n      <td>0.047</td>\n      <td>-0.980</td>\n      <td>0.233</td>\n      <td>Basal</td>\n    </tr>\n    <tr>\n      <th>3</th>\n      <td>0.309</td>\n      <td>-0.561</td>\n      <td>0.669</td>\n      <td>-0.514</td>\n      <td>0.805</td>\n      <td>0.409</td>\n      <td>-0.974</td>\n      <td>0.054</td>\n      <td>1.280</td>\n      <td>-0.150</td>\n      <td>...</td>\n      <td>-0.532</td>\n      <td>0.884</td>\n      <td>0.633</td>\n      <td>-0.586</td>\n      <td>0.163</td>\n      <td>-0.987</td>\n      <td>0.223</td>\n      <td>-1.090</td>\n      <td>0.603</td>\n      <td>Basal</td>\n    </tr>\n    <tr>\n      <th>4</th>\n      <td>0.732</td>\n      <td>-0.287</td>\n      <td>0.311</td>\n      <td>-0.326</td>\n      <td>-0.468</td>\n      <td>1.887</td>\n      <td>-0.347</td>\n      <td>-0.193</td>\n      <td>2.410</td>\n      <td>0.479</td>\n      <td>...</td>\n      <td>0.354</td>\n      <td>0.596</td>\n      <td>0.270</td>\n      <td>-0.282</td>\n      <td>0.601</td>\n      <td>0.164</td>\n      <td>0.040</td>\n      <td>-0.705</td>\n      <td>0.054</td>\n      <td>Basal</td>\n    </tr>\n  </tbody>\n</table>\n<p>5 rows × 13583 columns</p>\n</div>"
     },
     "execution_count": 2,
     "metadata": {},
     "output_type": "execute_result"
    }
   ],
   "source": [
    "input_file= \"data/breastcancer.csv\"\n",
    "df = pd.read_csv(input_file, header = 0)\n",
    "\n",
    "df.head()"
   ]
  },
  {
   "cell_type": "code",
   "execution_count": 3,
   "metadata": {},
   "outputs": [
    {
     "data": {
      "text/plain": "STK35        float64\nDPYSL4       float64\nGJC2         float64\nFMNL1        float64\nLIG3         float64\n              ...   \nMS4A3        float64\nSECISBP2L    float64\nEMP3         float64\nHOXB1        float64\nClass         object\nLength: 13583, dtype: object"
     },
     "execution_count": 3,
     "metadata": {},
     "output_type": "execute_result"
    }
   ],
   "source": [
    "#label_encoder = LabelEncoder()\n",
    "df.dtypes\n",
    "\n"
   ]
  },
  {
   "cell_type": "code",
   "execution_count": 4,
   "metadata": {},
   "outputs": [
    {
     "data": {
      "text/plain": "STK35        0\nDPYSL4       0\nGJC2         0\nFMNL1        0\nLIG3         0\n            ..\nMS4A3        0\nSECISBP2L    0\nEMP3         0\nHOXB1        0\nClass        0\nLength: 13583, dtype: int64"
     },
     "execution_count": 4,
     "metadata": {},
     "output_type": "execute_result"
    }
   ],
   "source": [
    "#Checking missing data\n",
    "df.isna().sum()"
   ]
  },
  {
   "cell_type": "code",
   "execution_count": 6,
   "metadata": {},
   "outputs": [
    {
     "data": {
      "text/plain": "STK35        137\nDPYSL4       146\nGJC2         152\nFMNL1        144\nLIG3         151\n            ... \nMS4A3        149\nSECISBP2L    151\nEMP3         152\nHOXB1        139\nClass          5\nLength: 13583, dtype: int64"
     },
     "execution_count": 6,
     "metadata": {},
     "output_type": "execute_result"
    }
   ],
   "source": [
    "df.nunique()"
   ]
  },
  {
   "cell_type": "code",
   "execution_count": 7,
   "metadata": {},
   "outputs": [],
   "source": [
    "from sklearn.preprocessing import OrdinalEncoder"
   ]
  },
  {
   "cell_type": "code",
   "execution_count": 8,
   "metadata": {},
   "outputs": [],
   "source": [
    "enc=OrdinalEncoder()"
   ]
  },
  {
   "cell_type": "code",
   "execution_count": 9,
   "metadata": {},
   "outputs": [
    {
     "data": {
      "text/plain": "Index(['STK35', 'DPYSL4', 'GJC2', 'FMNL1', 'LIG3', 'CA6', 'BRPF1', 'BRMS1',\n       'CXCL13', 'SIAE',\n       ...\n       'ADRB1', 'DRD4', 'GABRR1', 'KRT10', 'PIP', 'MS4A3', 'SECISBP2L', 'EMP3',\n       'HOXB1', 'Class'],\n      dtype='object', length=13583)"
     },
     "execution_count": 9,
     "metadata": {},
     "output_type": "execute_result"
    }
   ],
   "source": [
    "df.columns"
   ]
  },
  {
   "cell_type": "code",
   "execution_count": 10,
   "metadata": {},
   "outputs": [
    {
     "data": {
      "text/plain": "OrdinalEncoder()"
     },
     "execution_count": 10,
     "metadata": {},
     "output_type": "execute_result"
    }
   ],
   "source": [
    "#enc.fit(df[['Class']])\n",
    "enc.fit(df[:])"
   ]
  },
  {
   "cell_type": "code",
   "execution_count": 11,
   "metadata": {},
   "outputs": [],
   "source": [
    "#df[['Class']]= enc.transform(df[['Class']])\n",
    "df[:]= enc.transform(df[:])"
   ]
  },
  {
   "cell_type": "code",
   "execution_count": 12,
   "metadata": {},
   "outputs": [
    {
     "data": {
      "text/plain": "   STK35  DPYSL4   GJC2  FMNL1   LIG3    CA6  BRPF1  BRMS1  CXCL13   SIAE  \\\n0  128.0    46.0   73.0   81.0   32.0  120.0  107.0   33.0   103.0   54.0   \n1  134.0    20.0   27.0   63.0  135.0  109.0    8.0   42.0   156.0    6.0   \n2  113.0    70.0  114.0  118.0  124.0  138.0  142.0   90.0   119.0   32.0   \n3  114.0    14.0  104.0   15.0  130.0  124.0    2.0   76.0    39.0   40.0   \n4  135.0    49.0   43.0   43.0    5.0  145.0   83.0   45.0    81.0  121.0   \n\n   ...  ADRB1  DRD4  GABRR1  KRT10   PIP  MS4A3  SECISBP2L   EMP3  HOXB1  \\\n0  ...   45.0   8.0    26.0  144.0   5.0   51.0       95.0  135.0   58.0   \n1  ...  104.0   2.0   111.0   82.0  46.0    4.0      117.0  140.0  111.0   \n2  ...  106.0  12.0    69.0   92.0  54.0   69.0       38.0   61.0   98.0   \n3  ...   12.0  71.0   134.0  110.0   6.0   11.0       75.0   45.0  137.0   \n4  ...  125.0  43.0   102.0  128.0  27.0  141.0       33.0  100.0   56.0   \n\n   Class  \n0    0.0  \n1    0.0  \n2    0.0  \n3    0.0  \n4    0.0  \n\n[5 rows x 13583 columns]",
      "text/html": "<div>\n<style scoped>\n    .dataframe tbody tr th:only-of-type {\n        vertical-align: middle;\n    }\n\n    .dataframe tbody tr th {\n        vertical-align: top;\n    }\n\n    .dataframe thead th {\n        text-align: right;\n    }\n</style>\n<table border=\"1\" class=\"dataframe\">\n  <thead>\n    <tr style=\"text-align: right;\">\n      <th></th>\n      <th>STK35</th>\n      <th>DPYSL4</th>\n      <th>GJC2</th>\n      <th>FMNL1</th>\n      <th>LIG3</th>\n      <th>CA6</th>\n      <th>BRPF1</th>\n      <th>BRMS1</th>\n      <th>CXCL13</th>\n      <th>SIAE</th>\n      <th>...</th>\n      <th>ADRB1</th>\n      <th>DRD4</th>\n      <th>GABRR1</th>\n      <th>KRT10</th>\n      <th>PIP</th>\n      <th>MS4A3</th>\n      <th>SECISBP2L</th>\n      <th>EMP3</th>\n      <th>HOXB1</th>\n      <th>Class</th>\n    </tr>\n  </thead>\n  <tbody>\n    <tr>\n      <th>0</th>\n      <td>128.0</td>\n      <td>46.0</td>\n      <td>73.0</td>\n      <td>81.0</td>\n      <td>32.0</td>\n      <td>120.0</td>\n      <td>107.0</td>\n      <td>33.0</td>\n      <td>103.0</td>\n      <td>54.0</td>\n      <td>...</td>\n      <td>45.0</td>\n      <td>8.0</td>\n      <td>26.0</td>\n      <td>144.0</td>\n      <td>5.0</td>\n      <td>51.0</td>\n      <td>95.0</td>\n      <td>135.0</td>\n      <td>58.0</td>\n      <td>0.0</td>\n    </tr>\n    <tr>\n      <th>1</th>\n      <td>134.0</td>\n      <td>20.0</td>\n      <td>27.0</td>\n      <td>63.0</td>\n      <td>135.0</td>\n      <td>109.0</td>\n      <td>8.0</td>\n      <td>42.0</td>\n      <td>156.0</td>\n      <td>6.0</td>\n      <td>...</td>\n      <td>104.0</td>\n      <td>2.0</td>\n      <td>111.0</td>\n      <td>82.0</td>\n      <td>46.0</td>\n      <td>4.0</td>\n      <td>117.0</td>\n      <td>140.0</td>\n      <td>111.0</td>\n      <td>0.0</td>\n    </tr>\n    <tr>\n      <th>2</th>\n      <td>113.0</td>\n      <td>70.0</td>\n      <td>114.0</td>\n      <td>118.0</td>\n      <td>124.0</td>\n      <td>138.0</td>\n      <td>142.0</td>\n      <td>90.0</td>\n      <td>119.0</td>\n      <td>32.0</td>\n      <td>...</td>\n      <td>106.0</td>\n      <td>12.0</td>\n      <td>69.0</td>\n      <td>92.0</td>\n      <td>54.0</td>\n      <td>69.0</td>\n      <td>38.0</td>\n      <td>61.0</td>\n      <td>98.0</td>\n      <td>0.0</td>\n    </tr>\n    <tr>\n      <th>3</th>\n      <td>114.0</td>\n      <td>14.0</td>\n      <td>104.0</td>\n      <td>15.0</td>\n      <td>130.0</td>\n      <td>124.0</td>\n      <td>2.0</td>\n      <td>76.0</td>\n      <td>39.0</td>\n      <td>40.0</td>\n      <td>...</td>\n      <td>12.0</td>\n      <td>71.0</td>\n      <td>134.0</td>\n      <td>110.0</td>\n      <td>6.0</td>\n      <td>11.0</td>\n      <td>75.0</td>\n      <td>45.0</td>\n      <td>137.0</td>\n      <td>0.0</td>\n    </tr>\n    <tr>\n      <th>4</th>\n      <td>135.0</td>\n      <td>49.0</td>\n      <td>43.0</td>\n      <td>43.0</td>\n      <td>5.0</td>\n      <td>145.0</td>\n      <td>83.0</td>\n      <td>45.0</td>\n      <td>81.0</td>\n      <td>121.0</td>\n      <td>...</td>\n      <td>125.0</td>\n      <td>43.0</td>\n      <td>102.0</td>\n      <td>128.0</td>\n      <td>27.0</td>\n      <td>141.0</td>\n      <td>33.0</td>\n      <td>100.0</td>\n      <td>56.0</td>\n      <td>0.0</td>\n    </tr>\n  </tbody>\n</table>\n<p>5 rows × 13583 columns</p>\n</div>"
     },
     "execution_count": 12,
     "metadata": {},
     "output_type": "execute_result"
    }
   ],
   "source": [
    "df.head()"
   ]
  },
  {
   "cell_type": "code",
   "execution_count": 13,
   "metadata": {},
   "outputs": [],
   "source": [
    "X = df.iloc[:,0:13582]\n",
    "y = df.iloc[:,-1]"
   ]
  },
  {
   "cell_type": "code",
   "execution_count": 14,
   "metadata": {},
   "outputs": [
    {
     "data": {
      "text/plain": "   STK35  DPYSL4   GJC2  FMNL1   LIG3    CA6  BRPF1  BRMS1  CXCL13   SIAE  \\\n0  128.0    46.0   73.0   81.0   32.0  120.0  107.0   33.0   103.0   54.0   \n1  134.0    20.0   27.0   63.0  135.0  109.0    8.0   42.0   156.0    6.0   \n2  113.0    70.0  114.0  118.0  124.0  138.0  142.0   90.0   119.0   32.0   \n3  114.0    14.0  104.0   15.0  130.0  124.0    2.0   76.0    39.0   40.0   \n4  135.0    49.0   43.0   43.0    5.0  145.0   83.0   45.0    81.0  121.0   \n\n   ...  MAS1  ADRB1  DRD4  GABRR1  KRT10   PIP  MS4A3  SECISBP2L   EMP3  HOXB1  \n0  ...  23.0   45.0   8.0    26.0  144.0   5.0   51.0       95.0  135.0   58.0  \n1  ...  26.0  104.0   2.0   111.0   82.0  46.0    4.0      117.0  140.0  111.0  \n2  ...   3.0  106.0  12.0    69.0   92.0  54.0   69.0       38.0   61.0   98.0  \n3  ...   9.0   12.0  71.0   134.0  110.0   6.0   11.0       75.0   45.0  137.0  \n4  ...   7.0  125.0  43.0   102.0  128.0  27.0  141.0       33.0  100.0   56.0  \n\n[5 rows x 13582 columns]",
      "text/html": "<div>\n<style scoped>\n    .dataframe tbody tr th:only-of-type {\n        vertical-align: middle;\n    }\n\n    .dataframe tbody tr th {\n        vertical-align: top;\n    }\n\n    .dataframe thead th {\n        text-align: right;\n    }\n</style>\n<table border=\"1\" class=\"dataframe\">\n  <thead>\n    <tr style=\"text-align: right;\">\n      <th></th>\n      <th>STK35</th>\n      <th>DPYSL4</th>\n      <th>GJC2</th>\n      <th>FMNL1</th>\n      <th>LIG3</th>\n      <th>CA6</th>\n      <th>BRPF1</th>\n      <th>BRMS1</th>\n      <th>CXCL13</th>\n      <th>SIAE</th>\n      <th>...</th>\n      <th>MAS1</th>\n      <th>ADRB1</th>\n      <th>DRD4</th>\n      <th>GABRR1</th>\n      <th>KRT10</th>\n      <th>PIP</th>\n      <th>MS4A3</th>\n      <th>SECISBP2L</th>\n      <th>EMP3</th>\n      <th>HOXB1</th>\n    </tr>\n  </thead>\n  <tbody>\n    <tr>\n      <th>0</th>\n      <td>128.0</td>\n      <td>46.0</td>\n      <td>73.0</td>\n      <td>81.0</td>\n      <td>32.0</td>\n      <td>120.0</td>\n      <td>107.0</td>\n      <td>33.0</td>\n      <td>103.0</td>\n      <td>54.0</td>\n      <td>...</td>\n      <td>23.0</td>\n      <td>45.0</td>\n      <td>8.0</td>\n      <td>26.0</td>\n      <td>144.0</td>\n      <td>5.0</td>\n      <td>51.0</td>\n      <td>95.0</td>\n      <td>135.0</td>\n      <td>58.0</td>\n    </tr>\n    <tr>\n      <th>1</th>\n      <td>134.0</td>\n      <td>20.0</td>\n      <td>27.0</td>\n      <td>63.0</td>\n      <td>135.0</td>\n      <td>109.0</td>\n      <td>8.0</td>\n      <td>42.0</td>\n      <td>156.0</td>\n      <td>6.0</td>\n      <td>...</td>\n      <td>26.0</td>\n      <td>104.0</td>\n      <td>2.0</td>\n      <td>111.0</td>\n      <td>82.0</td>\n      <td>46.0</td>\n      <td>4.0</td>\n      <td>117.0</td>\n      <td>140.0</td>\n      <td>111.0</td>\n    </tr>\n    <tr>\n      <th>2</th>\n      <td>113.0</td>\n      <td>70.0</td>\n      <td>114.0</td>\n      <td>118.0</td>\n      <td>124.0</td>\n      <td>138.0</td>\n      <td>142.0</td>\n      <td>90.0</td>\n      <td>119.0</td>\n      <td>32.0</td>\n      <td>...</td>\n      <td>3.0</td>\n      <td>106.0</td>\n      <td>12.0</td>\n      <td>69.0</td>\n      <td>92.0</td>\n      <td>54.0</td>\n      <td>69.0</td>\n      <td>38.0</td>\n      <td>61.0</td>\n      <td>98.0</td>\n    </tr>\n    <tr>\n      <th>3</th>\n      <td>114.0</td>\n      <td>14.0</td>\n      <td>104.0</td>\n      <td>15.0</td>\n      <td>130.0</td>\n      <td>124.0</td>\n      <td>2.0</td>\n      <td>76.0</td>\n      <td>39.0</td>\n      <td>40.0</td>\n      <td>...</td>\n      <td>9.0</td>\n      <td>12.0</td>\n      <td>71.0</td>\n      <td>134.0</td>\n      <td>110.0</td>\n      <td>6.0</td>\n      <td>11.0</td>\n      <td>75.0</td>\n      <td>45.0</td>\n      <td>137.0</td>\n    </tr>\n    <tr>\n      <th>4</th>\n      <td>135.0</td>\n      <td>49.0</td>\n      <td>43.0</td>\n      <td>43.0</td>\n      <td>5.0</td>\n      <td>145.0</td>\n      <td>83.0</td>\n      <td>45.0</td>\n      <td>81.0</td>\n      <td>121.0</td>\n      <td>...</td>\n      <td>7.0</td>\n      <td>125.0</td>\n      <td>43.0</td>\n      <td>102.0</td>\n      <td>128.0</td>\n      <td>27.0</td>\n      <td>141.0</td>\n      <td>33.0</td>\n      <td>100.0</td>\n      <td>56.0</td>\n    </tr>\n  </tbody>\n</table>\n<p>5 rows × 13582 columns</p>\n</div>"
     },
     "execution_count": 14,
     "metadata": {},
     "output_type": "execute_result"
    }
   ],
   "source": [
    "X.head()"
   ]
  },
  {
   "cell_type": "code",
   "execution_count": 15,
   "metadata": {},
   "outputs": [
    {
     "data": {
      "text/plain": "0    0.0\n1    0.0\n2    0.0\n3    0.0\n4    0.0\nName: Class, dtype: float64"
     },
     "execution_count": 15,
     "metadata": {},
     "output_type": "execute_result"
    }
   ],
   "source": [
    "y.head()"
   ]
  },
  {
   "cell_type": "code",
   "execution_count": 16,
   "metadata": {},
   "outputs": [],
   "source": [
    "from sklearn.model_selection import train_test_split"
   ]
  },
  {
   "cell_type": "code",
   "execution_count": 17,
   "metadata": {},
   "outputs": [],
   "source": [
    "X_train , X_test , y_train , y_test = train_test_split(X, y, test_size=0.3 , random_state=123)"
   ]
  },
  {
   "cell_type": "code",
   "execution_count": 18,
   "metadata": {},
   "outputs": [],
   "source": [
    "#f_score= chi2(X_train, y_train)"
   ]
  },
  {
   "cell_type": "code",
   "execution_count": 19,
   "metadata": {},
   "outputs": [],
   "source": [
    "#f_score\n",
    "#f_score[1]\n",
    "#pvalues= pd.Series(f_score[1])\n",
    "#pvalues.index=X_train.columns\n",
    "#pvalues\n",
    "#pvalues.sort_values(ascending=False)\n",
    "\n",
    "#chi2_selector= SelectKBest(chi2, k=2)\n",
    "#X_kbest= chi2_selector.fit_transform(X,y)\n"
   ]
  },
  {
   "cell_type": "code",
   "execution_count": 24,
   "metadata": {},
   "outputs": [],
   "source": []
  },
  {
   "cell_type": "code",
   "execution_count": 21,
   "metadata": {},
   "outputs": [
    {
     "name": "stdout",
     "output_type": "stream",
     "text": [
      "[0.01107339 0.06218146 0.06894844 ... 0.08149686 0.0839547  0.        ]\n",
      "a\n"
     ]
    }
   ],
   "source": [
    "# determine the mutual information\n",
    "mutual_info = mutual_info_classif(X_train, y_train)\n",
    "#print(mutual_info)\n",
    "#mutual_info = pd.Series(mutual_info)\n",
    "mutual_info.index = X_train.columns\n",
    "mutual_info.sort_values(ascending=False)\n",
    "print(mutual_info)\n",
    "print(\"a\")"
   ]
  },
  {
   "cell_type": "code",
   "execution_count": 22,
   "metadata": {},
   "outputs": [
    {
     "data": {
      "text/plain": "Index(['AGR3', 'FOXA1', 'PPP1R14C', 'CENPF', 'AR'], dtype='object')"
     },
     "execution_count": 22,
     "metadata": {},
     "output_type": "execute_result"
    }
   ],
   "source": [
    "#No we Will select the top 5 important features\n",
    "sel_five_cols = SelectKBest(mutual_info_classif, k=5)\n",
    "sel_five_cols.fit(X_train, y_train)\n",
    "X_train.columns[sel_five_cols.get_support()]\n",
    "\n"
   ]
  },
  {
   "cell_type": "code",
   "execution_count": 40,
   "outputs": [],
   "source": [
    "from sklearn.metrics import confusion_matrix\n",
    "\n",
    "\n",
    "def confusion_matrix_scorer(clf, X, y):\n",
    "    y_pred = clf.predict(X)\n",
    "    cm = confusion_matrix(y, y_pred)\n",
    "    return {'TN': cm[0, 0], 'FP': cm[0, 1], 'FN': cm[1, 0], 'TP': cm[1, 1]\n",
    "        , 'PPV': np.divide(cm[1, 1], cm[1, 1] + cm[0, 1], where=cm[1, 1] + cm[0, 1] != 0)\n",
    "        , 'NPV': np.divide(cm[0, 0], cm[0, 0] + cm[1, 0], where=cm[0, 0] + cm[1, 0] != 0)\n",
    "        , 'Sensitivity': np.divide(cm[1, 1], cm[1, 1] + cm[1, 0], where=cm[1, 1] + cm[1, 0] != 0)\n",
    "        , 'Specificity': np.divide(cm[0, 0], cm[0, 0] + cm[0, 1], where=cm[0, 0] + cm[0, 1] != 0)\n",
    "        , 'Accuracy': np.divide(cm[1, 1] + cm[0, 0], cm[0, 0] + cm[0, 1] + cm[1, 0] + cm[1, 1],\n",
    "                                where=cm[0, 0] + cm[0, 1] + cm[1, 0] + cm[1, 1] != 0)}"
   ],
   "metadata": {
    "collapsed": false
   }
  },
  {
   "cell_type": "code",
   "execution_count": 41,
   "metadata": {},
   "outputs": [],
   "source": [
    "per_can = Perceptron(tol=1e-3, random_state=0)"
   ]
  },
  {
   "cell_type": "code",
   "execution_count": 42,
   "metadata": {},
   "outputs": [],
   "source": [
    "cv_results_circle = cross_validate(per_can, X, y, cv=2, scoring=confusion_matrix_scorer)"
   ]
  },
  {
   "cell_type": "code",
   "execution_count": 43,
   "metadata": {},
   "outputs": [],
   "source": [
    "acc_circle = np.mean(cv_results_circle['test_Accuracy'])"
   ]
  },
  {
   "cell_type": "code",
   "execution_count": 44,
   "metadata": {},
   "outputs": [
    {
     "name": "stdout",
     "output_type": "stream",
     "text": [
      "1.0\n",
      "0.8154761904761905\n",
      "0.5194805194805194\n",
      "1.0\n",
      "0.8314814814814815\n"
     ]
    }
   ],
   "source": [
    "print(np.mean(cv_results_circle['test_PPV']))\n",
    "print(np.mean(cv_results_circle['test_NPV']))\n",
    "print(np.mean(cv_results_circle['test_Sensitivity']))\n",
    "print(np.mean(cv_results_circle['test_Specificity']))\n",
    "print(np.mean(cv_results_circle['test_Accuracy']))"
   ]
  },
  {
   "cell_type": "code",
   "execution_count": 52,
   "outputs": [
    {
     "data": {
      "text/plain": "     STK35  DPYSL4   GJC2  FMNL1   LIG3    CA6  BRPF1  BRMS1  CXCL13   SIAE  \\\n0    128.0    46.0   73.0   81.0   32.0  120.0  107.0   33.0   103.0   54.0   \n1    134.0    20.0   27.0   63.0  135.0  109.0    8.0   42.0   156.0    6.0   \n2    113.0    70.0  114.0  118.0  124.0  138.0  142.0   90.0   119.0   32.0   \n3    114.0    14.0  104.0   15.0  130.0  124.0    2.0   76.0    39.0   40.0   \n4    135.0    49.0   43.0   43.0    5.0  145.0   83.0   45.0    81.0  121.0   \n..     ...     ...    ...    ...    ...    ...    ...    ...     ...    ...   \n153    8.0   139.0   53.0  142.0   30.0  127.0  129.0   61.0   137.0  123.0   \n154   12.0    52.0   99.0   20.0   35.0   29.0   97.0   47.0   152.0   70.0   \n155   57.0   118.0  117.0   47.0   62.0  111.0   89.0  102.0    21.0  112.0   \n156   83.0    40.0  100.0   10.0   52.0  100.0   57.0   49.0    67.0   31.0   \n157   34.0   115.0  142.0    1.0   22.0   71.0   48.0   30.0    55.0  148.0   \n\n     ...   MAS1  ADRB1   DRD4  GABRR1  KRT10    PIP  MS4A3  SECISBP2L   EMP3  \\\n0    ...   23.0   45.0    8.0    26.0  144.0    5.0   51.0       95.0  135.0   \n1    ...   26.0  104.0    2.0   111.0   82.0   46.0    4.0      117.0  140.0   \n2    ...    3.0  106.0   12.0    69.0   92.0   54.0   69.0       38.0   61.0   \n3    ...    9.0   12.0   71.0   134.0  110.0    6.0   11.0       75.0   45.0   \n4    ...    7.0  125.0   43.0   102.0  128.0   27.0  141.0       33.0  100.0   \n..   ...    ...    ...    ...     ...    ...    ...    ...        ...    ...   \n153  ...   27.0   50.0  118.0    13.0   30.0  142.0  138.0       12.0  112.0   \n154  ...  120.0  117.0  139.0    33.0   78.0  145.0  109.0       56.0   75.0   \n155  ...   97.0   25.0  135.0    63.0   68.0  135.0  135.0       91.0  107.0   \n156  ...   35.0   92.0  114.0    72.0   22.0  150.0   50.0       15.0  126.0   \n157  ...  116.0   27.0  120.0   123.0   63.0  151.0   16.0      149.0   17.0   \n\n     HOXB1  \n0     58.0  \n1    111.0  \n2     98.0  \n3    137.0  \n4     56.0  \n..     ...  \n153   12.0  \n154   50.0  \n155   68.0  \n156  119.0  \n157  109.0  \n\n[158 rows x 13582 columns]",
      "text/html": "<div>\n<style scoped>\n    .dataframe tbody tr th:only-of-type {\n        vertical-align: middle;\n    }\n\n    .dataframe tbody tr th {\n        vertical-align: top;\n    }\n\n    .dataframe thead th {\n        text-align: right;\n    }\n</style>\n<table border=\"1\" class=\"dataframe\">\n  <thead>\n    <tr style=\"text-align: right;\">\n      <th></th>\n      <th>STK35</th>\n      <th>DPYSL4</th>\n      <th>GJC2</th>\n      <th>FMNL1</th>\n      <th>LIG3</th>\n      <th>CA6</th>\n      <th>BRPF1</th>\n      <th>BRMS1</th>\n      <th>CXCL13</th>\n      <th>SIAE</th>\n      <th>...</th>\n      <th>MAS1</th>\n      <th>ADRB1</th>\n      <th>DRD4</th>\n      <th>GABRR1</th>\n      <th>KRT10</th>\n      <th>PIP</th>\n      <th>MS4A3</th>\n      <th>SECISBP2L</th>\n      <th>EMP3</th>\n      <th>HOXB1</th>\n    </tr>\n  </thead>\n  <tbody>\n    <tr>\n      <th>0</th>\n      <td>128.0</td>\n      <td>46.0</td>\n      <td>73.0</td>\n      <td>81.0</td>\n      <td>32.0</td>\n      <td>120.0</td>\n      <td>107.0</td>\n      <td>33.0</td>\n      <td>103.0</td>\n      <td>54.0</td>\n      <td>...</td>\n      <td>23.0</td>\n      <td>45.0</td>\n      <td>8.0</td>\n      <td>26.0</td>\n      <td>144.0</td>\n      <td>5.0</td>\n      <td>51.0</td>\n      <td>95.0</td>\n      <td>135.0</td>\n      <td>58.0</td>\n    </tr>\n    <tr>\n      <th>1</th>\n      <td>134.0</td>\n      <td>20.0</td>\n      <td>27.0</td>\n      <td>63.0</td>\n      <td>135.0</td>\n      <td>109.0</td>\n      <td>8.0</td>\n      <td>42.0</td>\n      <td>156.0</td>\n      <td>6.0</td>\n      <td>...</td>\n      <td>26.0</td>\n      <td>104.0</td>\n      <td>2.0</td>\n      <td>111.0</td>\n      <td>82.0</td>\n      <td>46.0</td>\n      <td>4.0</td>\n      <td>117.0</td>\n      <td>140.0</td>\n      <td>111.0</td>\n    </tr>\n    <tr>\n      <th>2</th>\n      <td>113.0</td>\n      <td>70.0</td>\n      <td>114.0</td>\n      <td>118.0</td>\n      <td>124.0</td>\n      <td>138.0</td>\n      <td>142.0</td>\n      <td>90.0</td>\n      <td>119.0</td>\n      <td>32.0</td>\n      <td>...</td>\n      <td>3.0</td>\n      <td>106.0</td>\n      <td>12.0</td>\n      <td>69.0</td>\n      <td>92.0</td>\n      <td>54.0</td>\n      <td>69.0</td>\n      <td>38.0</td>\n      <td>61.0</td>\n      <td>98.0</td>\n    </tr>\n    <tr>\n      <th>3</th>\n      <td>114.0</td>\n      <td>14.0</td>\n      <td>104.0</td>\n      <td>15.0</td>\n      <td>130.0</td>\n      <td>124.0</td>\n      <td>2.0</td>\n      <td>76.0</td>\n      <td>39.0</td>\n      <td>40.0</td>\n      <td>...</td>\n      <td>9.0</td>\n      <td>12.0</td>\n      <td>71.0</td>\n      <td>134.0</td>\n      <td>110.0</td>\n      <td>6.0</td>\n      <td>11.0</td>\n      <td>75.0</td>\n      <td>45.0</td>\n      <td>137.0</td>\n    </tr>\n    <tr>\n      <th>4</th>\n      <td>135.0</td>\n      <td>49.0</td>\n      <td>43.0</td>\n      <td>43.0</td>\n      <td>5.0</td>\n      <td>145.0</td>\n      <td>83.0</td>\n      <td>45.0</td>\n      <td>81.0</td>\n      <td>121.0</td>\n      <td>...</td>\n      <td>7.0</td>\n      <td>125.0</td>\n      <td>43.0</td>\n      <td>102.0</td>\n      <td>128.0</td>\n      <td>27.0</td>\n      <td>141.0</td>\n      <td>33.0</td>\n      <td>100.0</td>\n      <td>56.0</td>\n    </tr>\n    <tr>\n      <th>...</th>\n      <td>...</td>\n      <td>...</td>\n      <td>...</td>\n      <td>...</td>\n      <td>...</td>\n      <td>...</td>\n      <td>...</td>\n      <td>...</td>\n      <td>...</td>\n      <td>...</td>\n      <td>...</td>\n      <td>...</td>\n      <td>...</td>\n      <td>...</td>\n      <td>...</td>\n      <td>...</td>\n      <td>...</td>\n      <td>...</td>\n      <td>...</td>\n      <td>...</td>\n      <td>...</td>\n    </tr>\n    <tr>\n      <th>153</th>\n      <td>8.0</td>\n      <td>139.0</td>\n      <td>53.0</td>\n      <td>142.0</td>\n      <td>30.0</td>\n      <td>127.0</td>\n      <td>129.0</td>\n      <td>61.0</td>\n      <td>137.0</td>\n      <td>123.0</td>\n      <td>...</td>\n      <td>27.0</td>\n      <td>50.0</td>\n      <td>118.0</td>\n      <td>13.0</td>\n      <td>30.0</td>\n      <td>142.0</td>\n      <td>138.0</td>\n      <td>12.0</td>\n      <td>112.0</td>\n      <td>12.0</td>\n    </tr>\n    <tr>\n      <th>154</th>\n      <td>12.0</td>\n      <td>52.0</td>\n      <td>99.0</td>\n      <td>20.0</td>\n      <td>35.0</td>\n      <td>29.0</td>\n      <td>97.0</td>\n      <td>47.0</td>\n      <td>152.0</td>\n      <td>70.0</td>\n      <td>...</td>\n      <td>120.0</td>\n      <td>117.0</td>\n      <td>139.0</td>\n      <td>33.0</td>\n      <td>78.0</td>\n      <td>145.0</td>\n      <td>109.0</td>\n      <td>56.0</td>\n      <td>75.0</td>\n      <td>50.0</td>\n    </tr>\n    <tr>\n      <th>155</th>\n      <td>57.0</td>\n      <td>118.0</td>\n      <td>117.0</td>\n      <td>47.0</td>\n      <td>62.0</td>\n      <td>111.0</td>\n      <td>89.0</td>\n      <td>102.0</td>\n      <td>21.0</td>\n      <td>112.0</td>\n      <td>...</td>\n      <td>97.0</td>\n      <td>25.0</td>\n      <td>135.0</td>\n      <td>63.0</td>\n      <td>68.0</td>\n      <td>135.0</td>\n      <td>135.0</td>\n      <td>91.0</td>\n      <td>107.0</td>\n      <td>68.0</td>\n    </tr>\n    <tr>\n      <th>156</th>\n      <td>83.0</td>\n      <td>40.0</td>\n      <td>100.0</td>\n      <td>10.0</td>\n      <td>52.0</td>\n      <td>100.0</td>\n      <td>57.0</td>\n      <td>49.0</td>\n      <td>67.0</td>\n      <td>31.0</td>\n      <td>...</td>\n      <td>35.0</td>\n      <td>92.0</td>\n      <td>114.0</td>\n      <td>72.0</td>\n      <td>22.0</td>\n      <td>150.0</td>\n      <td>50.0</td>\n      <td>15.0</td>\n      <td>126.0</td>\n      <td>119.0</td>\n    </tr>\n    <tr>\n      <th>157</th>\n      <td>34.0</td>\n      <td>115.0</td>\n      <td>142.0</td>\n      <td>1.0</td>\n      <td>22.0</td>\n      <td>71.0</td>\n      <td>48.0</td>\n      <td>30.0</td>\n      <td>55.0</td>\n      <td>148.0</td>\n      <td>...</td>\n      <td>116.0</td>\n      <td>27.0</td>\n      <td>120.0</td>\n      <td>123.0</td>\n      <td>63.0</td>\n      <td>151.0</td>\n      <td>16.0</td>\n      <td>149.0</td>\n      <td>17.0</td>\n      <td>109.0</td>\n    </tr>\n  </tbody>\n</table>\n<p>158 rows × 13582 columns</p>\n</div>"
     },
     "execution_count": 52,
     "metadata": {},
     "output_type": "execute_result"
    }
   ],
   "source": [
    "X"
   ],
   "metadata": {
    "collapsed": false
   }
  },
  {
   "cell_type": "code",
   "execution_count": 55,
   "metadata": {},
   "outputs": [],
   "source": [
    "X_tests = df.filter(['AGR3', 'FOXA1', 'PPP1R14C', 'CENPF', 'AR'])"
   ]
  },
  {
   "cell_type": "code",
   "execution_count": 58,
   "outputs": [
    {
     "data": {
      "text/plain": "     AGR3  FOXA1  PPP1R14C  CENPF    AR\n0    38.0   29.0     131.0  122.0  12.0\n1    16.0    5.0     122.0  134.0  27.0\n2    11.0   39.0     105.0  136.0  16.0\n3    42.0   16.0     123.0  131.0  35.0\n4    49.0   15.0     157.0  114.0  31.0\n..    ...    ...       ...    ...   ...\n153  65.0   54.0     109.0   47.0  61.0\n154  69.0   50.0      84.0    6.0  98.0\n155  80.0   55.0     101.0   10.0  95.0\n156  63.0   58.0     135.0   40.0  68.0\n157  68.0   78.0     151.0   49.0  91.0\n\n[158 rows x 5 columns]",
      "text/html": "<div>\n<style scoped>\n    .dataframe tbody tr th:only-of-type {\n        vertical-align: middle;\n    }\n\n    .dataframe tbody tr th {\n        vertical-align: top;\n    }\n\n    .dataframe thead th {\n        text-align: right;\n    }\n</style>\n<table border=\"1\" class=\"dataframe\">\n  <thead>\n    <tr style=\"text-align: right;\">\n      <th></th>\n      <th>AGR3</th>\n      <th>FOXA1</th>\n      <th>PPP1R14C</th>\n      <th>CENPF</th>\n      <th>AR</th>\n    </tr>\n  </thead>\n  <tbody>\n    <tr>\n      <th>0</th>\n      <td>38.0</td>\n      <td>29.0</td>\n      <td>131.0</td>\n      <td>122.0</td>\n      <td>12.0</td>\n    </tr>\n    <tr>\n      <th>1</th>\n      <td>16.0</td>\n      <td>5.0</td>\n      <td>122.0</td>\n      <td>134.0</td>\n      <td>27.0</td>\n    </tr>\n    <tr>\n      <th>2</th>\n      <td>11.0</td>\n      <td>39.0</td>\n      <td>105.0</td>\n      <td>136.0</td>\n      <td>16.0</td>\n    </tr>\n    <tr>\n      <th>3</th>\n      <td>42.0</td>\n      <td>16.0</td>\n      <td>123.0</td>\n      <td>131.0</td>\n      <td>35.0</td>\n    </tr>\n    <tr>\n      <th>4</th>\n      <td>49.0</td>\n      <td>15.0</td>\n      <td>157.0</td>\n      <td>114.0</td>\n      <td>31.0</td>\n    </tr>\n    <tr>\n      <th>...</th>\n      <td>...</td>\n      <td>...</td>\n      <td>...</td>\n      <td>...</td>\n      <td>...</td>\n    </tr>\n    <tr>\n      <th>153</th>\n      <td>65.0</td>\n      <td>54.0</td>\n      <td>109.0</td>\n      <td>47.0</td>\n      <td>61.0</td>\n    </tr>\n    <tr>\n      <th>154</th>\n      <td>69.0</td>\n      <td>50.0</td>\n      <td>84.0</td>\n      <td>6.0</td>\n      <td>98.0</td>\n    </tr>\n    <tr>\n      <th>155</th>\n      <td>80.0</td>\n      <td>55.0</td>\n      <td>101.0</td>\n      <td>10.0</td>\n      <td>95.0</td>\n    </tr>\n    <tr>\n      <th>156</th>\n      <td>63.0</td>\n      <td>58.0</td>\n      <td>135.0</td>\n      <td>40.0</td>\n      <td>68.0</td>\n    </tr>\n    <tr>\n      <th>157</th>\n      <td>68.0</td>\n      <td>78.0</td>\n      <td>151.0</td>\n      <td>49.0</td>\n      <td>91.0</td>\n    </tr>\n  </tbody>\n</table>\n<p>158 rows × 5 columns</p>\n</div>"
     },
     "execution_count": 58,
     "metadata": {},
     "output_type": "execute_result"
    }
   ],
   "source": [
    "X_tests"
   ],
   "metadata": {
    "collapsed": false
   }
  },
  {
   "cell_type": "code",
   "execution_count": 56,
   "metadata": {},
   "outputs": [],
   "source": [
    "cv_results_circle = cross_validate(per_can, X_tests, y, cv=2, scoring=confusion_matrix_scorer)"
   ]
  },
  {
   "cell_type": "code",
   "execution_count": 57,
   "outputs": [
    {
     "name": "stdout",
     "output_type": "stream",
     "text": [
      "1.0\n",
      "0.9523809523809523\n",
      "0.6666666666666666\n",
      "1.0\n",
      "0.9545454545454546\n"
     ]
    }
   ],
   "source": [
    "print(np.mean(cv_results_circle['test_PPV']))\n",
    "print(np.mean(cv_results_circle['test_NPV']))\n",
    "print(np.mean(cv_results_circle['test_Sensitivity']))\n",
    "print(np.mean(cv_results_circle['test_Specificity']))\n",
    "print(np.mean(cv_results_circle['test_Accuracy']))"
   ],
   "metadata": {
    "collapsed": false
   }
  }
 ],
 "metadata": {
  "kernelspec": {
   "display_name": "Python 3",
   "language": "python",
   "name": "python3"
  },
  "language_info": {
   "codemirror_mode": {
    "name": "ipython",
    "version": 3
   },
   "file_extension": ".py",
   "mimetype": "text/x-python",
   "name": "python",
   "nbconvert_exporter": "python",
   "pygments_lexer": "ipython3",
   "version": "3.8.5"
  }
 },
 "nbformat": 4,
 "nbformat_minor": 4
}
