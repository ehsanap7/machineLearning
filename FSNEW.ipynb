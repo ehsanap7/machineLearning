{
 "cells": [
  {
   "cell_type": "code",
   "execution_count": 34,
   "metadata": {
    "collapsed": true
   },
   "outputs": [],
   "source": [
    "from sklearn.feature_selection import SelectKBest\n",
    "from sklearn.feature_selection import mutual_info_classif\n",
    "import pandas as pd\n",
    "import numpy as np\n",
    "from sklearn.model_selection import cross_validate\n",
    "from sklearn.neural_network import MLPClassifier\n",
    "from sklearn.preprocessing import LabelEncoder\n",
    "from sklearn.feature_selection import chi2\n",
    "from sklearn.feature_selection import SelectKBest\n",
    "from sklearn.metrics import confusion_matrix\n",
    "from sklearn import svm\n",
    "from sklearn.ensemble import RandomForestClassifier\n",
    "from sklearn.linear_model import Perceptron"
   ]
  },
  {
   "cell_type": "code",
   "execution_count": 2,
   "outputs": [
    {
     "data": {
      "text/plain": "   STK35  DPYSL4   GJC2  FMNL1   LIG3    CA6  BRPF1  BRMS1  CXCL13   SIAE  \\\n0  0.425  -0.316  0.465 -0.142 -0.033  0.357 -0.197 -0.280   3.164 -0.086   \n1  0.694  -0.497  0.200 -0.215  0.852  0.300 -0.864 -0.222   6.179 -0.649   \n2  0.304  -0.205  0.739  0.176  0.726  0.715  0.298  0.147   3.612 -0.230   \n3  0.309  -0.561  0.669 -0.514  0.805  0.409 -0.974  0.054   1.280 -0.150   \n4  0.732  -0.287  0.311 -0.326 -0.468  1.887 -0.347 -0.193   2.410  0.479   \n\n   ...  ADRB1   DRD4  GABRR1  KRT10    PIP  MS4A3  SECISBP2L   EMP3  HOXB1  \\\n0  ... -0.188 -0.015  -0.035  0.722  0.131 -0.545      0.323 -0.400  0.064   \n1  ...  0.200 -0.416   0.293 -0.795  1.785 -1.224      0.505 -0.275  0.300   \n2  ...  0.211  0.170   0.156 -0.733  2.414 -0.435      0.047 -0.980  0.233   \n3  ... -0.532  0.884   0.633 -0.586  0.163 -0.987      0.223 -1.090  0.603   \n4  ...  0.354  0.596   0.270 -0.282  0.601  0.164      0.040 -0.705  0.054   \n\n   Class  \n0  Basal  \n1  Basal  \n2  Basal  \n3  Basal  \n4  Basal  \n\n[5 rows x 13583 columns]",
      "text/html": "<div>\n<style scoped>\n    .dataframe tbody tr th:only-of-type {\n        vertical-align: middle;\n    }\n\n    .dataframe tbody tr th {\n        vertical-align: top;\n    }\n\n    .dataframe thead th {\n        text-align: right;\n    }\n</style>\n<table border=\"1\" class=\"dataframe\">\n  <thead>\n    <tr style=\"text-align: right;\">\n      <th></th>\n      <th>STK35</th>\n      <th>DPYSL4</th>\n      <th>GJC2</th>\n      <th>FMNL1</th>\n      <th>LIG3</th>\n      <th>CA6</th>\n      <th>BRPF1</th>\n      <th>BRMS1</th>\n      <th>CXCL13</th>\n      <th>SIAE</th>\n      <th>...</th>\n      <th>ADRB1</th>\n      <th>DRD4</th>\n      <th>GABRR1</th>\n      <th>KRT10</th>\n      <th>PIP</th>\n      <th>MS4A3</th>\n      <th>SECISBP2L</th>\n      <th>EMP3</th>\n      <th>HOXB1</th>\n      <th>Class</th>\n    </tr>\n  </thead>\n  <tbody>\n    <tr>\n      <th>0</th>\n      <td>0.425</td>\n      <td>-0.316</td>\n      <td>0.465</td>\n      <td>-0.142</td>\n      <td>-0.033</td>\n      <td>0.357</td>\n      <td>-0.197</td>\n      <td>-0.280</td>\n      <td>3.164</td>\n      <td>-0.086</td>\n      <td>...</td>\n      <td>-0.188</td>\n      <td>-0.015</td>\n      <td>-0.035</td>\n      <td>0.722</td>\n      <td>0.131</td>\n      <td>-0.545</td>\n      <td>0.323</td>\n      <td>-0.400</td>\n      <td>0.064</td>\n      <td>Basal</td>\n    </tr>\n    <tr>\n      <th>1</th>\n      <td>0.694</td>\n      <td>-0.497</td>\n      <td>0.200</td>\n      <td>-0.215</td>\n      <td>0.852</td>\n      <td>0.300</td>\n      <td>-0.864</td>\n      <td>-0.222</td>\n      <td>6.179</td>\n      <td>-0.649</td>\n      <td>...</td>\n      <td>0.200</td>\n      <td>-0.416</td>\n      <td>0.293</td>\n      <td>-0.795</td>\n      <td>1.785</td>\n      <td>-1.224</td>\n      <td>0.505</td>\n      <td>-0.275</td>\n      <td>0.300</td>\n      <td>Basal</td>\n    </tr>\n    <tr>\n      <th>2</th>\n      <td>0.304</td>\n      <td>-0.205</td>\n      <td>0.739</td>\n      <td>0.176</td>\n      <td>0.726</td>\n      <td>0.715</td>\n      <td>0.298</td>\n      <td>0.147</td>\n      <td>3.612</td>\n      <td>-0.230</td>\n      <td>...</td>\n      <td>0.211</td>\n      <td>0.170</td>\n      <td>0.156</td>\n      <td>-0.733</td>\n      <td>2.414</td>\n      <td>-0.435</td>\n      <td>0.047</td>\n      <td>-0.980</td>\n      <td>0.233</td>\n      <td>Basal</td>\n    </tr>\n    <tr>\n      <th>3</th>\n      <td>0.309</td>\n      <td>-0.561</td>\n      <td>0.669</td>\n      <td>-0.514</td>\n      <td>0.805</td>\n      <td>0.409</td>\n      <td>-0.974</td>\n      <td>0.054</td>\n      <td>1.280</td>\n      <td>-0.150</td>\n      <td>...</td>\n      <td>-0.532</td>\n      <td>0.884</td>\n      <td>0.633</td>\n      <td>-0.586</td>\n      <td>0.163</td>\n      <td>-0.987</td>\n      <td>0.223</td>\n      <td>-1.090</td>\n      <td>0.603</td>\n      <td>Basal</td>\n    </tr>\n    <tr>\n      <th>4</th>\n      <td>0.732</td>\n      <td>-0.287</td>\n      <td>0.311</td>\n      <td>-0.326</td>\n      <td>-0.468</td>\n      <td>1.887</td>\n      <td>-0.347</td>\n      <td>-0.193</td>\n      <td>2.410</td>\n      <td>0.479</td>\n      <td>...</td>\n      <td>0.354</td>\n      <td>0.596</td>\n      <td>0.270</td>\n      <td>-0.282</td>\n      <td>0.601</td>\n      <td>0.164</td>\n      <td>0.040</td>\n      <td>-0.705</td>\n      <td>0.054</td>\n      <td>Basal</td>\n    </tr>\n  </tbody>\n</table>\n<p>5 rows × 13583 columns</p>\n</div>"
     },
     "execution_count": 2,
     "metadata": {},
     "output_type": "execute_result"
    }
   ],
   "source": [
    "input_file = \"data/breastcancer.csv\"\n",
    "df = pd.read_csv(input_file, header=0)\n",
    "df.head()"
   ],
   "metadata": {
    "collapsed": false
   }
  },
  {
   "cell_type": "code",
   "execution_count": 3,
   "outputs": [],
   "source": [
    "for col in df.columns:\n",
    "    le = LabelEncoder()\n",
    "    df[col] = le.fit_transform(df[col])"
   ],
   "metadata": {
    "collapsed": false
   }
  },
  {
   "cell_type": "code",
   "execution_count": 4,
   "outputs": [
    {
     "data": {
      "text/plain": "   STK35  DPYSL4  GJC2  FMNL1  LIG3  CA6  BRPF1  BRMS1  CXCL13  SIAE  ...  \\\n0    128      46    73     81    32  120    107     33     103    54  ...   \n1    134      20    27     63   135  109      8     42     156     6  ...   \n2    113      70   114    118   124  138    142     90     119    32  ...   \n3    114      14   104     15   130  124      2     76      39    40  ...   \n4    135      49    43     43     5  145     83     45      81   121  ...   \n\n   ADRB1  DRD4  GABRR1  KRT10  PIP  MS4A3  SECISBP2L  EMP3  HOXB1  Class  \n0     45     8      26    144    5     51         95   135     58      0  \n1    104     2     111     82   46      4        117   140    111      0  \n2    106    12      69     92   54     69         38    61     98      0  \n3     12    71     134    110    6     11         75    45    137      0  \n4    125    43     102    128   27    141         33   100     56      0  \n\n[5 rows x 13583 columns]",
      "text/html": "<div>\n<style scoped>\n    .dataframe tbody tr th:only-of-type {\n        vertical-align: middle;\n    }\n\n    .dataframe tbody tr th {\n        vertical-align: top;\n    }\n\n    .dataframe thead th {\n        text-align: right;\n    }\n</style>\n<table border=\"1\" class=\"dataframe\">\n  <thead>\n    <tr style=\"text-align: right;\">\n      <th></th>\n      <th>STK35</th>\n      <th>DPYSL4</th>\n      <th>GJC2</th>\n      <th>FMNL1</th>\n      <th>LIG3</th>\n      <th>CA6</th>\n      <th>BRPF1</th>\n      <th>BRMS1</th>\n      <th>CXCL13</th>\n      <th>SIAE</th>\n      <th>...</th>\n      <th>ADRB1</th>\n      <th>DRD4</th>\n      <th>GABRR1</th>\n      <th>KRT10</th>\n      <th>PIP</th>\n      <th>MS4A3</th>\n      <th>SECISBP2L</th>\n      <th>EMP3</th>\n      <th>HOXB1</th>\n      <th>Class</th>\n    </tr>\n  </thead>\n  <tbody>\n    <tr>\n      <th>0</th>\n      <td>128</td>\n      <td>46</td>\n      <td>73</td>\n      <td>81</td>\n      <td>32</td>\n      <td>120</td>\n      <td>107</td>\n      <td>33</td>\n      <td>103</td>\n      <td>54</td>\n      <td>...</td>\n      <td>45</td>\n      <td>8</td>\n      <td>26</td>\n      <td>144</td>\n      <td>5</td>\n      <td>51</td>\n      <td>95</td>\n      <td>135</td>\n      <td>58</td>\n      <td>0</td>\n    </tr>\n    <tr>\n      <th>1</th>\n      <td>134</td>\n      <td>20</td>\n      <td>27</td>\n      <td>63</td>\n      <td>135</td>\n      <td>109</td>\n      <td>8</td>\n      <td>42</td>\n      <td>156</td>\n      <td>6</td>\n      <td>...</td>\n      <td>104</td>\n      <td>2</td>\n      <td>111</td>\n      <td>82</td>\n      <td>46</td>\n      <td>4</td>\n      <td>117</td>\n      <td>140</td>\n      <td>111</td>\n      <td>0</td>\n    </tr>\n    <tr>\n      <th>2</th>\n      <td>113</td>\n      <td>70</td>\n      <td>114</td>\n      <td>118</td>\n      <td>124</td>\n      <td>138</td>\n      <td>142</td>\n      <td>90</td>\n      <td>119</td>\n      <td>32</td>\n      <td>...</td>\n      <td>106</td>\n      <td>12</td>\n      <td>69</td>\n      <td>92</td>\n      <td>54</td>\n      <td>69</td>\n      <td>38</td>\n      <td>61</td>\n      <td>98</td>\n      <td>0</td>\n    </tr>\n    <tr>\n      <th>3</th>\n      <td>114</td>\n      <td>14</td>\n      <td>104</td>\n      <td>15</td>\n      <td>130</td>\n      <td>124</td>\n      <td>2</td>\n      <td>76</td>\n      <td>39</td>\n      <td>40</td>\n      <td>...</td>\n      <td>12</td>\n      <td>71</td>\n      <td>134</td>\n      <td>110</td>\n      <td>6</td>\n      <td>11</td>\n      <td>75</td>\n      <td>45</td>\n      <td>137</td>\n      <td>0</td>\n    </tr>\n    <tr>\n      <th>4</th>\n      <td>135</td>\n      <td>49</td>\n      <td>43</td>\n      <td>43</td>\n      <td>5</td>\n      <td>145</td>\n      <td>83</td>\n      <td>45</td>\n      <td>81</td>\n      <td>121</td>\n      <td>...</td>\n      <td>125</td>\n      <td>43</td>\n      <td>102</td>\n      <td>128</td>\n      <td>27</td>\n      <td>141</td>\n      <td>33</td>\n      <td>100</td>\n      <td>56</td>\n      <td>0</td>\n    </tr>\n  </tbody>\n</table>\n<p>5 rows × 13583 columns</p>\n</div>"
     },
     "execution_count": 4,
     "metadata": {},
     "output_type": "execute_result"
    }
   ],
   "source": [
    "df.head()"
   ],
   "metadata": {
    "collapsed": false
   }
  },
  {
   "cell_type": "code",
   "execution_count": 5,
   "outputs": [],
   "source": [
    "X = df.drop(columns=['Class'], axis=1)\n",
    "y = df['Class']"
   ],
   "metadata": {
    "collapsed": false
   }
  },
  {
   "cell_type": "code",
   "execution_count": 6,
   "outputs": [],
   "source": [
    "def confusion_matrix_scorer(clf, X, y):\n",
    "    y_pred = clf.predict(X)\n",
    "    cm = confusion_matrix(y, y_pred)\n",
    "    return {'TN': cm[0, 0], 'FP': cm[0, 1], 'FN': cm[1, 0], 'TP': cm[1, 1]\n",
    "        , 'PPV': np.divide(cm[1, 1], cm[1, 1] + cm[0, 1], where=cm[1, 1] + cm[0, 1] != 0)\n",
    "        , 'NPV': np.divide(cm[0, 0], cm[0, 0] + cm[1, 0], where=cm[0, 0] + cm[1, 0] != 0)\n",
    "        , 'Sensitivity': np.divide(cm[1, 1], cm[1, 1] + cm[1, 0], where=cm[1, 1] + cm[1, 0] != 0)\n",
    "        , 'Specificity': np.divide(cm[0, 0], cm[0, 0] + cm[0, 1], where=cm[0, 0] + cm[0, 1] != 0)\n",
    "        , 'Accuracy': np.divide(cm[1, 1] + cm[0, 0], cm[0, 0] + cm[0, 1] + cm[1, 0] + cm[1, 1],\n",
    "                                where=cm[0, 0] + cm[0, 1] + cm[1, 0] + cm[1, 1] != 0)}"
   ],
   "metadata": {
    "collapsed": false
   }
  },
  {
   "cell_type": "code",
   "execution_count": 7,
   "outputs": [],
   "source": [
    "def cross_val_show_result(clf, X, y, k):\n",
    "    result = cross_validate(clf, X, y, cv=k, scoring=confusion_matrix_scorer)\n",
    "    print(np.mean(result['test_PPV']))\n",
    "    print(np.mean(result['test_NPV']))\n",
    "    print(np.mean(result['test_Sensitivity']))\n",
    "    print(np.mean(result['test_Specificity']))\n",
    "    print(np.mean(result['test_Accuracy']))"
   ],
   "metadata": {
    "collapsed": false
   }
  },
  {
   "cell_type": "code",
   "execution_count": 142,
   "outputs": [],
   "source": [
    "mlp = MLPClassifier(random_state=1, max_iter=300)"
   ],
   "metadata": {
    "collapsed": false
   }
  },
  {
   "cell_type": "code",
   "execution_count": 143,
   "outputs": [
    {
     "name": "stdout",
     "output_type": "stream",
     "text": [
      "0.9066666666666666\n",
      "1.1\n",
      "1.0\n",
      "0.8666666666666666\n",
      "0.9199999999999999\n"
     ]
    }
   ],
   "source": [
    "cross_val_show_result(mlp, X, y, 10)"
   ],
   "metadata": {
    "collapsed": false
   }
  },
  {
   "cell_type": "code",
   "execution_count": 37,
   "outputs": [],
   "source": [
    "randomF = RandomForestClassifier()"
   ],
   "metadata": {
    "collapsed": false
   }
  },
  {
   "cell_type": "code",
   "execution_count": 138,
   "outputs": [
    {
     "name": "stdout",
     "output_type": "stream",
     "text": [
      "1.0\n",
      "0.9800000000000001\n",
      "0.9666666666666666\n",
      "1.0\n",
      "0.9857142857142858\n"
     ]
    }
   ],
   "source": [
    "cross_val_show_result(randomF, X, y, 10)"
   ],
   "metadata": {
    "collapsed": false
   }
  },
  {
   "cell_type": "code",
   "execution_count": 39,
   "outputs": [],
   "source": [
    "svm = svm.SVC(kernel=\"rbf\")"
   ],
   "metadata": {
    "collapsed": false
   }
  },
  {
   "cell_type": "code",
   "execution_count": 139,
   "outputs": [
    {
     "name": "stdout",
     "output_type": "stream",
     "text": [
      "0.8\n",
      "0.9800000000000001\n",
      "1.5666666666666667\n",
      "1.0\n",
      "0.9857142857142858\n"
     ]
    }
   ],
   "source": [
    "cross_val_show_result(svm, X, y, 10)"
   ],
   "metadata": {
    "collapsed": false
   }
  },
  {
   "cell_type": "markdown",
   "source": [
    "# Feature Selection"
   ],
   "metadata": {
    "collapsed": false
   }
  },
  {
   "cell_type": "markdown",
   "source": [
    "# Information Gain"
   ],
   "metadata": {
    "collapsed": false
   }
  },
  {
   "cell_type": "code",
   "execution_count": 118,
   "outputs": [
    {
     "data": {
      "text/plain": "Index(['AGR3', 'FOXA1', 'THSD4', 'TBC1D9', 'PPP1R14C', 'CENPF', 'GATA3',\n       'AGR2', 'ATL2', 'AR', 'TFF3'],\n      dtype='object')"
     },
     "execution_count": 118,
     "metadata": {},
     "output_type": "execute_result"
    }
   ],
   "source": [
    "sel_five_cols = SelectKBest(mutual_info_classif, k=11)\n",
    "sel_five_cols.fit(X, y)\n",
    "X.columns[sel_five_cols.get_support()]"
   ],
   "metadata": {
    "collapsed": false
   }
  },
  {
   "cell_type": "code",
   "execution_count": 119,
   "outputs": [],
   "source": [
    "removal_info_gain = X.columns[sel_five_cols.get_support()].values.tolist()"
   ],
   "metadata": {
    "collapsed": false
   }
  },
  {
   "cell_type": "code",
   "execution_count": 120,
   "outputs": [],
   "source": [
    "X_info_gain = df.filter(removal_info_gain)"
   ],
   "metadata": {
    "collapsed": false
   }
  },
  {
   "cell_type": "code",
   "execution_count": 144,
   "outputs": [
    {
     "name": "stderr",
     "output_type": "stream",
     "text": [
      "/home/ehsanap/anaconda3/lib/python3.9/site-packages/sklearn/neural_network/_multilayer_perceptron.py:692: ConvergenceWarning: Stochastic Optimizer: Maximum iterations (300) reached and the optimization hasn't converged yet.\n",
      "  warnings.warn(\n",
      "/home/ehsanap/anaconda3/lib/python3.9/site-packages/sklearn/neural_network/_multilayer_perceptron.py:692: ConvergenceWarning: Stochastic Optimizer: Maximum iterations (300) reached and the optimization hasn't converged yet.\n",
      "  warnings.warn(\n",
      "/home/ehsanap/anaconda3/lib/python3.9/site-packages/sklearn/neural_network/_multilayer_perceptron.py:692: ConvergenceWarning: Stochastic Optimizer: Maximum iterations (300) reached and the optimization hasn't converged yet.\n",
      "  warnings.warn(\n",
      "/home/ehsanap/anaconda3/lib/python3.9/site-packages/sklearn/neural_network/_multilayer_perceptron.py:692: ConvergenceWarning: Stochastic Optimizer: Maximum iterations (300) reached and the optimization hasn't converged yet.\n",
      "  warnings.warn(\n",
      "/home/ehsanap/anaconda3/lib/python3.9/site-packages/sklearn/neural_network/_multilayer_perceptron.py:692: ConvergenceWarning: Stochastic Optimizer: Maximum iterations (300) reached and the optimization hasn't converged yet.\n",
      "  warnings.warn(\n",
      "/home/ehsanap/anaconda3/lib/python3.9/site-packages/sklearn/neural_network/_multilayer_perceptron.py:692: ConvergenceWarning: Stochastic Optimizer: Maximum iterations (300) reached and the optimization hasn't converged yet.\n",
      "  warnings.warn(\n",
      "/home/ehsanap/anaconda3/lib/python3.9/site-packages/sklearn/neural_network/_multilayer_perceptron.py:692: ConvergenceWarning: Stochastic Optimizer: Maximum iterations (300) reached and the optimization hasn't converged yet.\n",
      "  warnings.warn(\n",
      "/home/ehsanap/anaconda3/lib/python3.9/site-packages/sklearn/neural_network/_multilayer_perceptron.py:692: ConvergenceWarning: Stochastic Optimizer: Maximum iterations (300) reached and the optimization hasn't converged yet.\n",
      "  warnings.warn(\n",
      "/home/ehsanap/anaconda3/lib/python3.9/site-packages/sklearn/neural_network/_multilayer_perceptron.py:692: ConvergenceWarning: Stochastic Optimizer: Maximum iterations (300) reached and the optimization hasn't converged yet.\n",
      "  warnings.warn(\n"
     ]
    },
    {
     "name": "stdout",
     "output_type": "stream",
     "text": [
      "1.0\n",
      "1.0\n",
      "1.0\n",
      "1.0\n",
      "1.0\n"
     ]
    },
    {
     "name": "stderr",
     "output_type": "stream",
     "text": [
      "/home/ehsanap/anaconda3/lib/python3.9/site-packages/sklearn/neural_network/_multilayer_perceptron.py:692: ConvergenceWarning: Stochastic Optimizer: Maximum iterations (300) reached and the optimization hasn't converged yet.\n",
      "  warnings.warn(\n"
     ]
    }
   ],
   "source": [
    "cross_val_show_result(mlp, X_info_gain, y, 10)"
   ],
   "metadata": {
    "collapsed": false
   }
  },
  {
   "cell_type": "code",
   "execution_count": 141,
   "outputs": [
    {
     "name": "stdout",
     "output_type": "stream",
     "text": [
      "1.0\n",
      "1.0\n",
      "1.0\n",
      "1.0\n",
      "1.0\n"
     ]
    }
   ],
   "source": [
    "cross_val_show_result(randomF, X_info_gain, y, 10)"
   ],
   "metadata": {
    "collapsed": false
   }
  },
  {
   "cell_type": "code",
   "execution_count": 123,
   "outputs": [
    {
     "name": "stdout",
     "output_type": "stream",
     "text": [
      "1.0\n",
      "0.9761904761904762\n",
      "0.9545454545454546\n",
      "1.0\n",
      "0.9838709677419355\n"
     ]
    }
   ],
   "source": [
    "cross_val_show_result(svm, X_info_gain, y, 10)"
   ],
   "metadata": {
    "collapsed": false
   }
  },
  {
   "cell_type": "markdown",
   "source": [
    "# Chi"
   ],
   "metadata": {
    "collapsed": false
   }
  },
  {
   "cell_type": "code",
   "execution_count": 106,
   "outputs": [
    {
     "data": {
      "text/plain": "Index(['AGR3', 'ASPM', 'FOXA1', 'CA12', 'FAM174A', 'THSD4', 'TBC1D9', 'CENPF',\n       'GATA3', 'IL6ST', 'SLC7A8'],\n      dtype='object')"
     },
     "execution_count": 106,
     "metadata": {},
     "output_type": "execute_result"
    }
   ],
   "source": [
    "selector_chi = SelectKBest(chi2, k=11)\n",
    "selector_chi.fit(X, y)\n",
    "X.columns[selector_chi.get_support()]"
   ],
   "metadata": {
    "collapsed": false
   }
  },
  {
   "cell_type": "code",
   "execution_count": 107,
   "outputs": [],
   "source": [
    "removal_chi = X.columns[selector_chi.get_support()].values.tolist()"
   ],
   "metadata": {
    "collapsed": false
   }
  },
  {
   "cell_type": "code",
   "execution_count": 108,
   "outputs": [],
   "source": [
    "X_chi = df.filter(removal_chi)"
   ],
   "metadata": {
    "collapsed": false
   }
  },
  {
   "cell_type": "code",
   "execution_count": 109,
   "outputs": [
    {
     "data": {
      "text/plain": "     AGR3  ASPM  FOXA1  CA12  FAM174A  THSD4  TBC1D9  CENPF  GATA3  IL6ST  \\\n0      38   128     29    16       30      5      44    122      5     27   \n1      16   143      5    28       87     10      52    134     34     49   \n2      11   132     39    32       20     21      24    136     22     11   \n3      42   131     16    18       42      8      34    131     20     35   \n4      49   121     15     8       61     42      38    114     14     21   \n..    ...   ...    ...   ...      ...    ...     ...    ...    ...    ...   \n153    65    27     54    47       12    113      57     47     58    118   \n154    69    17     50    88       59    104      74      6     48    110   \n155    80    11     55    97       67    122      92     10     78    121   \n156    63    69     58    69       98     68      67     40     92     33   \n157    68    47     78    21       68     47      70     49     30     92   \n\n     SLC7A8  \n0        10  \n1        61  \n2         6  \n3        54  \n4        33  \n..      ...  \n153      41  \n154      65  \n155      83  \n156      89  \n157      56  \n\n[158 rows x 11 columns]",
      "text/html": "<div>\n<style scoped>\n    .dataframe tbody tr th:only-of-type {\n        vertical-align: middle;\n    }\n\n    .dataframe tbody tr th {\n        vertical-align: top;\n    }\n\n    .dataframe thead th {\n        text-align: right;\n    }\n</style>\n<table border=\"1\" class=\"dataframe\">\n  <thead>\n    <tr style=\"text-align: right;\">\n      <th></th>\n      <th>AGR3</th>\n      <th>ASPM</th>\n      <th>FOXA1</th>\n      <th>CA12</th>\n      <th>FAM174A</th>\n      <th>THSD4</th>\n      <th>TBC1D9</th>\n      <th>CENPF</th>\n      <th>GATA3</th>\n      <th>IL6ST</th>\n      <th>SLC7A8</th>\n    </tr>\n  </thead>\n  <tbody>\n    <tr>\n      <th>0</th>\n      <td>38</td>\n      <td>128</td>\n      <td>29</td>\n      <td>16</td>\n      <td>30</td>\n      <td>5</td>\n      <td>44</td>\n      <td>122</td>\n      <td>5</td>\n      <td>27</td>\n      <td>10</td>\n    </tr>\n    <tr>\n      <th>1</th>\n      <td>16</td>\n      <td>143</td>\n      <td>5</td>\n      <td>28</td>\n      <td>87</td>\n      <td>10</td>\n      <td>52</td>\n      <td>134</td>\n      <td>34</td>\n      <td>49</td>\n      <td>61</td>\n    </tr>\n    <tr>\n      <th>2</th>\n      <td>11</td>\n      <td>132</td>\n      <td>39</td>\n      <td>32</td>\n      <td>20</td>\n      <td>21</td>\n      <td>24</td>\n      <td>136</td>\n      <td>22</td>\n      <td>11</td>\n      <td>6</td>\n    </tr>\n    <tr>\n      <th>3</th>\n      <td>42</td>\n      <td>131</td>\n      <td>16</td>\n      <td>18</td>\n      <td>42</td>\n      <td>8</td>\n      <td>34</td>\n      <td>131</td>\n      <td>20</td>\n      <td>35</td>\n      <td>54</td>\n    </tr>\n    <tr>\n      <th>4</th>\n      <td>49</td>\n      <td>121</td>\n      <td>15</td>\n      <td>8</td>\n      <td>61</td>\n      <td>42</td>\n      <td>38</td>\n      <td>114</td>\n      <td>14</td>\n      <td>21</td>\n      <td>33</td>\n    </tr>\n    <tr>\n      <th>...</th>\n      <td>...</td>\n      <td>...</td>\n      <td>...</td>\n      <td>...</td>\n      <td>...</td>\n      <td>...</td>\n      <td>...</td>\n      <td>...</td>\n      <td>...</td>\n      <td>...</td>\n      <td>...</td>\n    </tr>\n    <tr>\n      <th>153</th>\n      <td>65</td>\n      <td>27</td>\n      <td>54</td>\n      <td>47</td>\n      <td>12</td>\n      <td>113</td>\n      <td>57</td>\n      <td>47</td>\n      <td>58</td>\n      <td>118</td>\n      <td>41</td>\n    </tr>\n    <tr>\n      <th>154</th>\n      <td>69</td>\n      <td>17</td>\n      <td>50</td>\n      <td>88</td>\n      <td>59</td>\n      <td>104</td>\n      <td>74</td>\n      <td>6</td>\n      <td>48</td>\n      <td>110</td>\n      <td>65</td>\n    </tr>\n    <tr>\n      <th>155</th>\n      <td>80</td>\n      <td>11</td>\n      <td>55</td>\n      <td>97</td>\n      <td>67</td>\n      <td>122</td>\n      <td>92</td>\n      <td>10</td>\n      <td>78</td>\n      <td>121</td>\n      <td>83</td>\n    </tr>\n    <tr>\n      <th>156</th>\n      <td>63</td>\n      <td>69</td>\n      <td>58</td>\n      <td>69</td>\n      <td>98</td>\n      <td>68</td>\n      <td>67</td>\n      <td>40</td>\n      <td>92</td>\n      <td>33</td>\n      <td>89</td>\n    </tr>\n    <tr>\n      <th>157</th>\n      <td>68</td>\n      <td>47</td>\n      <td>78</td>\n      <td>21</td>\n      <td>68</td>\n      <td>47</td>\n      <td>70</td>\n      <td>49</td>\n      <td>30</td>\n      <td>92</td>\n      <td>56</td>\n    </tr>\n  </tbody>\n</table>\n<p>158 rows × 11 columns</p>\n</div>"
     },
     "execution_count": 109,
     "metadata": {},
     "output_type": "execute_result"
    }
   ],
   "source": [
    "X_chi"
   ],
   "metadata": {
    "collapsed": false
   }
  },
  {
   "cell_type": "code",
   "execution_count": 145,
   "outputs": [
    {
     "name": "stderr",
     "output_type": "stream",
     "text": [
      "/home/ehsanap/anaconda3/lib/python3.9/site-packages/sklearn/neural_network/_multilayer_perceptron.py:692: ConvergenceWarning: Stochastic Optimizer: Maximum iterations (300) reached and the optimization hasn't converged yet.\n",
      "  warnings.warn(\n"
     ]
    },
    {
     "name": "stdout",
     "output_type": "stream",
     "text": [
      "0.9090909090909092\n",
      "0.9472222222222222\n",
      "0.8944444444444444\n",
      "0.9473684210526316\n",
      "0.9304187192118227\n"
     ]
    },
    {
     "name": "stderr",
     "output_type": "stream",
     "text": [
      "/home/ehsanap/anaconda3/lib/python3.9/site-packages/sklearn/neural_network/_multilayer_perceptron.py:692: ConvergenceWarning: Stochastic Optimizer: Maximum iterations (300) reached and the optimization hasn't converged yet.\n",
      "  warnings.warn(\n"
     ]
    }
   ],
   "source": [
    "cross_val_show_result(mlp, X_chi, y, 2)"
   ],
   "metadata": {
    "collapsed": false
   }
  },
  {
   "cell_type": "code",
   "execution_count": 125,
   "outputs": [
    {
     "name": "stdout",
     "output_type": "stream",
     "text": [
      "1.0\n",
      "1.0\n",
      "1.0\n",
      "1.0\n",
      "1.0\n"
     ]
    }
   ],
   "source": [
    "cross_val_show_result(randomF, X_chi, y, 2)"
   ],
   "metadata": {
    "collapsed": false
   }
  },
  {
   "cell_type": "code",
   "execution_count": 126,
   "outputs": [
    {
     "name": "stdout",
     "output_type": "stream",
     "text": [
      "1.0\n",
      "0.9273809523809524\n",
      "0.8545454545454545\n",
      "1.0\n",
      "0.9488505747126437\n"
     ]
    }
   ],
   "source": [
    "cross_val_show_result(svm, X_chi, y, 2)"
   ],
   "metadata": {
    "collapsed": false
   }
  },
  {
   "cell_type": "code",
   "execution_count": null,
   "outputs": [],
   "source": [],
   "metadata": {
    "collapsed": false
   }
  }
 ],
 "metadata": {
  "kernelspec": {
   "display_name": "Python 3",
   "language": "python",
   "name": "python3"
  },
  "language_info": {
   "codemirror_mode": {
    "name": "ipython",
    "version": 2
   },
   "file_extension": ".py",
   "mimetype": "text/x-python",
   "name": "python",
   "nbconvert_exporter": "python",
   "pygments_lexer": "ipython2",
   "version": "2.7.6"
  }
 },
 "nbformat": 4,
 "nbformat_minor": 0
}
